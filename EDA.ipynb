{
  "nbformat": 4,
  "nbformat_minor": 0,
  "metadata": {
    "colab": {
      "provenance": [],
      "authorship_tag": "ABX9TyMHwNKJ7r+GABs+IQmKbsCu",
      "include_colab_link": true
    },
    "kernelspec": {
      "name": "python3",
      "display_name": "Python 3"
    },
    "language_info": {
      "name": "python"
    }
  },
  "cells": [
    {
      "cell_type": "markdown",
      "metadata": {
        "id": "view-in-github",
        "colab_type": "text"
      },
      "source": [
        "<a href=\"https://colab.research.google.com/github/EstevahnAguilera/Data-Science-Projects/blob/main/EDA.ipynb\" target=\"_parent\"><img src=\"https://colab.research.google.com/assets/colab-badge.svg\" alt=\"Open In Colab\"/></a>"
      ]
    },
    {
      "cell_type": "markdown",
      "source": [
        "# Project Description\n",
        "For this project, you'll work with data from Instacart.\n",
        "\n",
        "Instacart is a grocery delivery platform where customers can place a grocery order and have it delivered to them, similar to how Uber Eats and Door Dash work. This particular dataset was publicly released by Instacart in 2017 for a Kaggle competition.\n",
        "\n",
        "The dataset we've provided for you has been modified from the original. We've reduced the size of the dataset so that your calculations run faster and we've introduced missing and duplicate values. We were also careful to preserve the distributions of the original data when we made our changes.\n",
        "\n",
        "Your mission is to clean up the data and prepare a report that gives insight into the shopping habits of Instacart customers. After answering each question, write a brief explanation of your results in a markdown cell of your Jupyter notebook.\n",
        "\n",
        "This project will require you to make plots that communicate your results. Make sure that any plots you create have a title, labeled axes, and a legend if necessary; and include plt.show() at the end of each cell with a plot."
      ],
      "metadata": {
        "id": "M4MnEUQ6d5C1"
      }
    },
    {
      "cell_type": "markdown",
      "source": [
        "## Data Dictionary\n",
        "There are five tables in the dataset, and you'll need to use all of them to do your data preprocessing and EDA. Below is a data dictionary that lists the columns in each table and describes that data that hold.\n",
        "\n",
        "- instacart_orders.csv: each row corresponds to one order on the Instacart app\n",
        "  - 'order_id': ID number that uniquely identifies each order\n",
        "  - 'user_id': ID number that uniquely identifies each customer account\n",
        "  - 'order_number': the number of times this customer has placed an order\n",
        "  - 'order_dow': day of the week that the order placed (which day is 0 is uncertain)\n",
        "  - 'order_hour_of_day': hour of the day that the order was placed\n",
        "  - 'days_since_prior_order': number of days since this customer placed their previous order\n",
        "- products.csv: each row corresponds to a unique product that customers can buy\n",
        "    - 'product_id': ID number that uniquely identifies each product\n",
        "    - 'product_name': name of the product\n",
        "    - 'aisle_id': ID number that uniquely identifies each grocery aisle category\n",
        "    - 'department_id': ID number that uniquely identifies each grocery department category\n",
        "- order_products.csv: each row corresponds to one item placed in an order\n",
        "    - 'order_id': ID number that uniquely identifies each order\n",
        "    - 'product_id': ID number that uniquely identifies each product\n",
        "    - 'add_to_cart_order': the sequential order in which each item was placed in the cart\n",
        "    - 'reordered': 0 if the customer has never ordered this product before, 1 if they have\n",
        "- aisles.csv\n",
        "    - 'aisle_id': ID number that uniquely identifies each grocery aisle category\n",
        "    - 'aisle': name of the aisle\n",
        "- departments.csv\n",
        "    - 'department_id': ID number that uniquely identifies each grocery department category\n",
        "    - 'department': name of the department"
      ],
      "metadata": {
        "id": "9lc9K3OXeM69"
      }
    },
    {
      "cell_type": "markdown",
      "source": [
        "## Getting Started\n",
        "I will begin by setting up the environment.\n",
        "### Importing Libraries\n",
        "I need to import the necessary libraries."
      ],
      "metadata": {
        "id": "HnKugG_jfGTJ"
      }
    },
    {
      "cell_type": "code",
      "source": [
        "# Importing the libraries we'll need for this analysis\n",
        "import pandas as pd\n",
        "import matplotlib.pyplot as plt\n",
        "\n",
        "# Importing the library for google sheets\n",
        "from google.colab import files\n",
        "uploaded_1 = files.upload() # instacart_orders\n",
        "uploaded_2 = files.upload() # products\n",
        "uploaded_3 = files.upload() # departments\n",
        "uploaded_4 = files.upload() # aisles\n",
        "uploaded_5 = files.upload() # order_products"
      ],
      "metadata": {
        "id": "de6bNoIoff3Y",
        "colab": {
          "base_uri": "https://localhost:8080/",
          "height": 316
        },
        "outputId": "c43650db-c2c0-4d90-c69e-a1d5a4172464"
      },
      "execution_count": 3,
      "outputs": [
        {
          "output_type": "display_data",
          "data": {
            "text/plain": [
              "<IPython.core.display.HTML object>"
            ],
            "text/html": [
              "\n",
              "     <input type=\"file\" id=\"files-5e53402f-59e4-407e-9253-e2cb73e45c9a\" name=\"files[]\" multiple disabled\n",
              "        style=\"border:none\" />\n",
              "     <output id=\"result-5e53402f-59e4-407e-9253-e2cb73e45c9a\">\n",
              "      Upload widget is only available when the cell has been executed in the\n",
              "      current browser session. Please rerun this cell to enable.\n",
              "      </output>\n",
              "      <script>// Copyright 2017 Google LLC\n",
              "//\n",
              "// Licensed under the Apache License, Version 2.0 (the \"License\");\n",
              "// you may not use this file except in compliance with the License.\n",
              "// You may obtain a copy of the License at\n",
              "//\n",
              "//      http://www.apache.org/licenses/LICENSE-2.0\n",
              "//\n",
              "// Unless required by applicable law or agreed to in writing, software\n",
              "// distributed under the License is distributed on an \"AS IS\" BASIS,\n",
              "// WITHOUT WARRANTIES OR CONDITIONS OF ANY KIND, either express or implied.\n",
              "// See the License for the specific language governing permissions and\n",
              "// limitations under the License.\n",
              "\n",
              "/**\n",
              " * @fileoverview Helpers for google.colab Python module.\n",
              " */\n",
              "(function(scope) {\n",
              "function span(text, styleAttributes = {}) {\n",
              "  const element = document.createElement('span');\n",
              "  element.textContent = text;\n",
              "  for (const key of Object.keys(styleAttributes)) {\n",
              "    element.style[key] = styleAttributes[key];\n",
              "  }\n",
              "  return element;\n",
              "}\n",
              "\n",
              "// Max number of bytes which will be uploaded at a time.\n",
              "const MAX_PAYLOAD_SIZE = 100 * 1024;\n",
              "\n",
              "function _uploadFiles(inputId, outputId) {\n",
              "  const steps = uploadFilesStep(inputId, outputId);\n",
              "  const outputElement = document.getElementById(outputId);\n",
              "  // Cache steps on the outputElement to make it available for the next call\n",
              "  // to uploadFilesContinue from Python.\n",
              "  outputElement.steps = steps;\n",
              "\n",
              "  return _uploadFilesContinue(outputId);\n",
              "}\n",
              "\n",
              "// This is roughly an async generator (not supported in the browser yet),\n",
              "// where there are multiple asynchronous steps and the Python side is going\n",
              "// to poll for completion of each step.\n",
              "// This uses a Promise to block the python side on completion of each step,\n",
              "// then passes the result of the previous step as the input to the next step.\n",
              "function _uploadFilesContinue(outputId) {\n",
              "  const outputElement = document.getElementById(outputId);\n",
              "  const steps = outputElement.steps;\n",
              "\n",
              "  const next = steps.next(outputElement.lastPromiseValue);\n",
              "  return Promise.resolve(next.value.promise).then((value) => {\n",
              "    // Cache the last promise value to make it available to the next\n",
              "    // step of the generator.\n",
              "    outputElement.lastPromiseValue = value;\n",
              "    return next.value.response;\n",
              "  });\n",
              "}\n",
              "\n",
              "/**\n",
              " * Generator function which is called between each async step of the upload\n",
              " * process.\n",
              " * @param {string} inputId Element ID of the input file picker element.\n",
              " * @param {string} outputId Element ID of the output display.\n",
              " * @return {!Iterable<!Object>} Iterable of next steps.\n",
              " */\n",
              "function* uploadFilesStep(inputId, outputId) {\n",
              "  const inputElement = document.getElementById(inputId);\n",
              "  inputElement.disabled = false;\n",
              "\n",
              "  const outputElement = document.getElementById(outputId);\n",
              "  outputElement.innerHTML = '';\n",
              "\n",
              "  const pickedPromise = new Promise((resolve) => {\n",
              "    inputElement.addEventListener('change', (e) => {\n",
              "      resolve(e.target.files);\n",
              "    });\n",
              "  });\n",
              "\n",
              "  const cancel = document.createElement('button');\n",
              "  inputElement.parentElement.appendChild(cancel);\n",
              "  cancel.textContent = 'Cancel upload';\n",
              "  const cancelPromise = new Promise((resolve) => {\n",
              "    cancel.onclick = () => {\n",
              "      resolve(null);\n",
              "    };\n",
              "  });\n",
              "\n",
              "  // Wait for the user to pick the files.\n",
              "  const files = yield {\n",
              "    promise: Promise.race([pickedPromise, cancelPromise]),\n",
              "    response: {\n",
              "      action: 'starting',\n",
              "    }\n",
              "  };\n",
              "\n",
              "  cancel.remove();\n",
              "\n",
              "  // Disable the input element since further picks are not allowed.\n",
              "  inputElement.disabled = true;\n",
              "\n",
              "  if (!files) {\n",
              "    return {\n",
              "      response: {\n",
              "        action: 'complete',\n",
              "      }\n",
              "    };\n",
              "  }\n",
              "\n",
              "  for (const file of files) {\n",
              "    const li = document.createElement('li');\n",
              "    li.append(span(file.name, {fontWeight: 'bold'}));\n",
              "    li.append(span(\n",
              "        `(${file.type || 'n/a'}) - ${file.size} bytes, ` +\n",
              "        `last modified: ${\n",
              "            file.lastModifiedDate ? file.lastModifiedDate.toLocaleDateString() :\n",
              "                                    'n/a'} - `));\n",
              "    const percent = span('0% done');\n",
              "    li.appendChild(percent);\n",
              "\n",
              "    outputElement.appendChild(li);\n",
              "\n",
              "    const fileDataPromise = new Promise((resolve) => {\n",
              "      const reader = new FileReader();\n",
              "      reader.onload = (e) => {\n",
              "        resolve(e.target.result);\n",
              "      };\n",
              "      reader.readAsArrayBuffer(file);\n",
              "    });\n",
              "    // Wait for the data to be ready.\n",
              "    let fileData = yield {\n",
              "      promise: fileDataPromise,\n",
              "      response: {\n",
              "        action: 'continue',\n",
              "      }\n",
              "    };\n",
              "\n",
              "    // Use a chunked sending to avoid message size limits. See b/62115660.\n",
              "    let position = 0;\n",
              "    do {\n",
              "      const length = Math.min(fileData.byteLength - position, MAX_PAYLOAD_SIZE);\n",
              "      const chunk = new Uint8Array(fileData, position, length);\n",
              "      position += length;\n",
              "\n",
              "      const base64 = btoa(String.fromCharCode.apply(null, chunk));\n",
              "      yield {\n",
              "        response: {\n",
              "          action: 'append',\n",
              "          file: file.name,\n",
              "          data: base64,\n",
              "        },\n",
              "      };\n",
              "\n",
              "      let percentDone = fileData.byteLength === 0 ?\n",
              "          100 :\n",
              "          Math.round((position / fileData.byteLength) * 100);\n",
              "      percent.textContent = `${percentDone}% done`;\n",
              "\n",
              "    } while (position < fileData.byteLength);\n",
              "  }\n",
              "\n",
              "  // All done.\n",
              "  yield {\n",
              "    response: {\n",
              "      action: 'complete',\n",
              "    }\n",
              "  };\n",
              "}\n",
              "\n",
              "scope.google = scope.google || {};\n",
              "scope.google.colab = scope.google.colab || {};\n",
              "scope.google.colab._files = {\n",
              "  _uploadFiles,\n",
              "  _uploadFilesContinue,\n",
              "};\n",
              "})(self);\n",
              "</script> "
            ]
          },
          "metadata": {}
        },
        {
          "output_type": "stream",
          "name": "stdout",
          "text": [
            "Saving instacart_orders.csv to instacart_orders.csv\n"
          ]
        },
        {
          "output_type": "display_data",
          "data": {
            "text/plain": [
              "<IPython.core.display.HTML object>"
            ],
            "text/html": [
              "\n",
              "     <input type=\"file\" id=\"files-e9957be8-0b44-4b7a-a0a2-913e94bd8e83\" name=\"files[]\" multiple disabled\n",
              "        style=\"border:none\" />\n",
              "     <output id=\"result-e9957be8-0b44-4b7a-a0a2-913e94bd8e83\">\n",
              "      Upload widget is only available when the cell has been executed in the\n",
              "      current browser session. Please rerun this cell to enable.\n",
              "      </output>\n",
              "      <script>// Copyright 2017 Google LLC\n",
              "//\n",
              "// Licensed under the Apache License, Version 2.0 (the \"License\");\n",
              "// you may not use this file except in compliance with the License.\n",
              "// You may obtain a copy of the License at\n",
              "//\n",
              "//      http://www.apache.org/licenses/LICENSE-2.0\n",
              "//\n",
              "// Unless required by applicable law or agreed to in writing, software\n",
              "// distributed under the License is distributed on an \"AS IS\" BASIS,\n",
              "// WITHOUT WARRANTIES OR CONDITIONS OF ANY KIND, either express or implied.\n",
              "// See the License for the specific language governing permissions and\n",
              "// limitations under the License.\n",
              "\n",
              "/**\n",
              " * @fileoverview Helpers for google.colab Python module.\n",
              " */\n",
              "(function(scope) {\n",
              "function span(text, styleAttributes = {}) {\n",
              "  const element = document.createElement('span');\n",
              "  element.textContent = text;\n",
              "  for (const key of Object.keys(styleAttributes)) {\n",
              "    element.style[key] = styleAttributes[key];\n",
              "  }\n",
              "  return element;\n",
              "}\n",
              "\n",
              "// Max number of bytes which will be uploaded at a time.\n",
              "const MAX_PAYLOAD_SIZE = 100 * 1024;\n",
              "\n",
              "function _uploadFiles(inputId, outputId) {\n",
              "  const steps = uploadFilesStep(inputId, outputId);\n",
              "  const outputElement = document.getElementById(outputId);\n",
              "  // Cache steps on the outputElement to make it available for the next call\n",
              "  // to uploadFilesContinue from Python.\n",
              "  outputElement.steps = steps;\n",
              "\n",
              "  return _uploadFilesContinue(outputId);\n",
              "}\n",
              "\n",
              "// This is roughly an async generator (not supported in the browser yet),\n",
              "// where there are multiple asynchronous steps and the Python side is going\n",
              "// to poll for completion of each step.\n",
              "// This uses a Promise to block the python side on completion of each step,\n",
              "// then passes the result of the previous step as the input to the next step.\n",
              "function _uploadFilesContinue(outputId) {\n",
              "  const outputElement = document.getElementById(outputId);\n",
              "  const steps = outputElement.steps;\n",
              "\n",
              "  const next = steps.next(outputElement.lastPromiseValue);\n",
              "  return Promise.resolve(next.value.promise).then((value) => {\n",
              "    // Cache the last promise value to make it available to the next\n",
              "    // step of the generator.\n",
              "    outputElement.lastPromiseValue = value;\n",
              "    return next.value.response;\n",
              "  });\n",
              "}\n",
              "\n",
              "/**\n",
              " * Generator function which is called between each async step of the upload\n",
              " * process.\n",
              " * @param {string} inputId Element ID of the input file picker element.\n",
              " * @param {string} outputId Element ID of the output display.\n",
              " * @return {!Iterable<!Object>} Iterable of next steps.\n",
              " */\n",
              "function* uploadFilesStep(inputId, outputId) {\n",
              "  const inputElement = document.getElementById(inputId);\n",
              "  inputElement.disabled = false;\n",
              "\n",
              "  const outputElement = document.getElementById(outputId);\n",
              "  outputElement.innerHTML = '';\n",
              "\n",
              "  const pickedPromise = new Promise((resolve) => {\n",
              "    inputElement.addEventListener('change', (e) => {\n",
              "      resolve(e.target.files);\n",
              "    });\n",
              "  });\n",
              "\n",
              "  const cancel = document.createElement('button');\n",
              "  inputElement.parentElement.appendChild(cancel);\n",
              "  cancel.textContent = 'Cancel upload';\n",
              "  const cancelPromise = new Promise((resolve) => {\n",
              "    cancel.onclick = () => {\n",
              "      resolve(null);\n",
              "    };\n",
              "  });\n",
              "\n",
              "  // Wait for the user to pick the files.\n",
              "  const files = yield {\n",
              "    promise: Promise.race([pickedPromise, cancelPromise]),\n",
              "    response: {\n",
              "      action: 'starting',\n",
              "    }\n",
              "  };\n",
              "\n",
              "  cancel.remove();\n",
              "\n",
              "  // Disable the input element since further picks are not allowed.\n",
              "  inputElement.disabled = true;\n",
              "\n",
              "  if (!files) {\n",
              "    return {\n",
              "      response: {\n",
              "        action: 'complete',\n",
              "      }\n",
              "    };\n",
              "  }\n",
              "\n",
              "  for (const file of files) {\n",
              "    const li = document.createElement('li');\n",
              "    li.append(span(file.name, {fontWeight: 'bold'}));\n",
              "    li.append(span(\n",
              "        `(${file.type || 'n/a'}) - ${file.size} bytes, ` +\n",
              "        `last modified: ${\n",
              "            file.lastModifiedDate ? file.lastModifiedDate.toLocaleDateString() :\n",
              "                                    'n/a'} - `));\n",
              "    const percent = span('0% done');\n",
              "    li.appendChild(percent);\n",
              "\n",
              "    outputElement.appendChild(li);\n",
              "\n",
              "    const fileDataPromise = new Promise((resolve) => {\n",
              "      const reader = new FileReader();\n",
              "      reader.onload = (e) => {\n",
              "        resolve(e.target.result);\n",
              "      };\n",
              "      reader.readAsArrayBuffer(file);\n",
              "    });\n",
              "    // Wait for the data to be ready.\n",
              "    let fileData = yield {\n",
              "      promise: fileDataPromise,\n",
              "      response: {\n",
              "        action: 'continue',\n",
              "      }\n",
              "    };\n",
              "\n",
              "    // Use a chunked sending to avoid message size limits. See b/62115660.\n",
              "    let position = 0;\n",
              "    do {\n",
              "      const length = Math.min(fileData.byteLength - position, MAX_PAYLOAD_SIZE);\n",
              "      const chunk = new Uint8Array(fileData, position, length);\n",
              "      position += length;\n",
              "\n",
              "      const base64 = btoa(String.fromCharCode.apply(null, chunk));\n",
              "      yield {\n",
              "        response: {\n",
              "          action: 'append',\n",
              "          file: file.name,\n",
              "          data: base64,\n",
              "        },\n",
              "      };\n",
              "\n",
              "      let percentDone = fileData.byteLength === 0 ?\n",
              "          100 :\n",
              "          Math.round((position / fileData.byteLength) * 100);\n",
              "      percent.textContent = `${percentDone}% done`;\n",
              "\n",
              "    } while (position < fileData.byteLength);\n",
              "  }\n",
              "\n",
              "  // All done.\n",
              "  yield {\n",
              "    response: {\n",
              "      action: 'complete',\n",
              "    }\n",
              "  };\n",
              "}\n",
              "\n",
              "scope.google = scope.google || {};\n",
              "scope.google.colab = scope.google.colab || {};\n",
              "scope.google.colab._files = {\n",
              "  _uploadFiles,\n",
              "  _uploadFilesContinue,\n",
              "};\n",
              "})(self);\n",
              "</script> "
            ]
          },
          "metadata": {}
        },
        {
          "output_type": "stream",
          "name": "stdout",
          "text": [
            "Saving products.csv to products.csv\n"
          ]
        },
        {
          "output_type": "display_data",
          "data": {
            "text/plain": [
              "<IPython.core.display.HTML object>"
            ],
            "text/html": [
              "\n",
              "     <input type=\"file\" id=\"files-10694b29-e20c-4f6f-8055-6eab089b9716\" name=\"files[]\" multiple disabled\n",
              "        style=\"border:none\" />\n",
              "     <output id=\"result-10694b29-e20c-4f6f-8055-6eab089b9716\">\n",
              "      Upload widget is only available when the cell has been executed in the\n",
              "      current browser session. Please rerun this cell to enable.\n",
              "      </output>\n",
              "      <script>// Copyright 2017 Google LLC\n",
              "//\n",
              "// Licensed under the Apache License, Version 2.0 (the \"License\");\n",
              "// you may not use this file except in compliance with the License.\n",
              "// You may obtain a copy of the License at\n",
              "//\n",
              "//      http://www.apache.org/licenses/LICENSE-2.0\n",
              "//\n",
              "// Unless required by applicable law or agreed to in writing, software\n",
              "// distributed under the License is distributed on an \"AS IS\" BASIS,\n",
              "// WITHOUT WARRANTIES OR CONDITIONS OF ANY KIND, either express or implied.\n",
              "// See the License for the specific language governing permissions and\n",
              "// limitations under the License.\n",
              "\n",
              "/**\n",
              " * @fileoverview Helpers for google.colab Python module.\n",
              " */\n",
              "(function(scope) {\n",
              "function span(text, styleAttributes = {}) {\n",
              "  const element = document.createElement('span');\n",
              "  element.textContent = text;\n",
              "  for (const key of Object.keys(styleAttributes)) {\n",
              "    element.style[key] = styleAttributes[key];\n",
              "  }\n",
              "  return element;\n",
              "}\n",
              "\n",
              "// Max number of bytes which will be uploaded at a time.\n",
              "const MAX_PAYLOAD_SIZE = 100 * 1024;\n",
              "\n",
              "function _uploadFiles(inputId, outputId) {\n",
              "  const steps = uploadFilesStep(inputId, outputId);\n",
              "  const outputElement = document.getElementById(outputId);\n",
              "  // Cache steps on the outputElement to make it available for the next call\n",
              "  // to uploadFilesContinue from Python.\n",
              "  outputElement.steps = steps;\n",
              "\n",
              "  return _uploadFilesContinue(outputId);\n",
              "}\n",
              "\n",
              "// This is roughly an async generator (not supported in the browser yet),\n",
              "// where there are multiple asynchronous steps and the Python side is going\n",
              "// to poll for completion of each step.\n",
              "// This uses a Promise to block the python side on completion of each step,\n",
              "// then passes the result of the previous step as the input to the next step.\n",
              "function _uploadFilesContinue(outputId) {\n",
              "  const outputElement = document.getElementById(outputId);\n",
              "  const steps = outputElement.steps;\n",
              "\n",
              "  const next = steps.next(outputElement.lastPromiseValue);\n",
              "  return Promise.resolve(next.value.promise).then((value) => {\n",
              "    // Cache the last promise value to make it available to the next\n",
              "    // step of the generator.\n",
              "    outputElement.lastPromiseValue = value;\n",
              "    return next.value.response;\n",
              "  });\n",
              "}\n",
              "\n",
              "/**\n",
              " * Generator function which is called between each async step of the upload\n",
              " * process.\n",
              " * @param {string} inputId Element ID of the input file picker element.\n",
              " * @param {string} outputId Element ID of the output display.\n",
              " * @return {!Iterable<!Object>} Iterable of next steps.\n",
              " */\n",
              "function* uploadFilesStep(inputId, outputId) {\n",
              "  const inputElement = document.getElementById(inputId);\n",
              "  inputElement.disabled = false;\n",
              "\n",
              "  const outputElement = document.getElementById(outputId);\n",
              "  outputElement.innerHTML = '';\n",
              "\n",
              "  const pickedPromise = new Promise((resolve) => {\n",
              "    inputElement.addEventListener('change', (e) => {\n",
              "      resolve(e.target.files);\n",
              "    });\n",
              "  });\n",
              "\n",
              "  const cancel = document.createElement('button');\n",
              "  inputElement.parentElement.appendChild(cancel);\n",
              "  cancel.textContent = 'Cancel upload';\n",
              "  const cancelPromise = new Promise((resolve) => {\n",
              "    cancel.onclick = () => {\n",
              "      resolve(null);\n",
              "    };\n",
              "  });\n",
              "\n",
              "  // Wait for the user to pick the files.\n",
              "  const files = yield {\n",
              "    promise: Promise.race([pickedPromise, cancelPromise]),\n",
              "    response: {\n",
              "      action: 'starting',\n",
              "    }\n",
              "  };\n",
              "\n",
              "  cancel.remove();\n",
              "\n",
              "  // Disable the input element since further picks are not allowed.\n",
              "  inputElement.disabled = true;\n",
              "\n",
              "  if (!files) {\n",
              "    return {\n",
              "      response: {\n",
              "        action: 'complete',\n",
              "      }\n",
              "    };\n",
              "  }\n",
              "\n",
              "  for (const file of files) {\n",
              "    const li = document.createElement('li');\n",
              "    li.append(span(file.name, {fontWeight: 'bold'}));\n",
              "    li.append(span(\n",
              "        `(${file.type || 'n/a'}) - ${file.size} bytes, ` +\n",
              "        `last modified: ${\n",
              "            file.lastModifiedDate ? file.lastModifiedDate.toLocaleDateString() :\n",
              "                                    'n/a'} - `));\n",
              "    const percent = span('0% done');\n",
              "    li.appendChild(percent);\n",
              "\n",
              "    outputElement.appendChild(li);\n",
              "\n",
              "    const fileDataPromise = new Promise((resolve) => {\n",
              "      const reader = new FileReader();\n",
              "      reader.onload = (e) => {\n",
              "        resolve(e.target.result);\n",
              "      };\n",
              "      reader.readAsArrayBuffer(file);\n",
              "    });\n",
              "    // Wait for the data to be ready.\n",
              "    let fileData = yield {\n",
              "      promise: fileDataPromise,\n",
              "      response: {\n",
              "        action: 'continue',\n",
              "      }\n",
              "    };\n",
              "\n",
              "    // Use a chunked sending to avoid message size limits. See b/62115660.\n",
              "    let position = 0;\n",
              "    do {\n",
              "      const length = Math.min(fileData.byteLength - position, MAX_PAYLOAD_SIZE);\n",
              "      const chunk = new Uint8Array(fileData, position, length);\n",
              "      position += length;\n",
              "\n",
              "      const base64 = btoa(String.fromCharCode.apply(null, chunk));\n",
              "      yield {\n",
              "        response: {\n",
              "          action: 'append',\n",
              "          file: file.name,\n",
              "          data: base64,\n",
              "        },\n",
              "      };\n",
              "\n",
              "      let percentDone = fileData.byteLength === 0 ?\n",
              "          100 :\n",
              "          Math.round((position / fileData.byteLength) * 100);\n",
              "      percent.textContent = `${percentDone}% done`;\n",
              "\n",
              "    } while (position < fileData.byteLength);\n",
              "  }\n",
              "\n",
              "  // All done.\n",
              "  yield {\n",
              "    response: {\n",
              "      action: 'complete',\n",
              "    }\n",
              "  };\n",
              "}\n",
              "\n",
              "scope.google = scope.google || {};\n",
              "scope.google.colab = scope.google.colab || {};\n",
              "scope.google.colab._files = {\n",
              "  _uploadFiles,\n",
              "  _uploadFilesContinue,\n",
              "};\n",
              "})(self);\n",
              "</script> "
            ]
          },
          "metadata": {}
        },
        {
          "output_type": "stream",
          "name": "stdout",
          "text": [
            "Saving departments.csv to departments.csv\n"
          ]
        },
        {
          "output_type": "display_data",
          "data": {
            "text/plain": [
              "<IPython.core.display.HTML object>"
            ],
            "text/html": [
              "\n",
              "     <input type=\"file\" id=\"files-9b6a2c83-bf57-41b7-b0fc-e220393c862a\" name=\"files[]\" multiple disabled\n",
              "        style=\"border:none\" />\n",
              "     <output id=\"result-9b6a2c83-bf57-41b7-b0fc-e220393c862a\">\n",
              "      Upload widget is only available when the cell has been executed in the\n",
              "      current browser session. Please rerun this cell to enable.\n",
              "      </output>\n",
              "      <script>// Copyright 2017 Google LLC\n",
              "//\n",
              "// Licensed under the Apache License, Version 2.0 (the \"License\");\n",
              "// you may not use this file except in compliance with the License.\n",
              "// You may obtain a copy of the License at\n",
              "//\n",
              "//      http://www.apache.org/licenses/LICENSE-2.0\n",
              "//\n",
              "// Unless required by applicable law or agreed to in writing, software\n",
              "// distributed under the License is distributed on an \"AS IS\" BASIS,\n",
              "// WITHOUT WARRANTIES OR CONDITIONS OF ANY KIND, either express or implied.\n",
              "// See the License for the specific language governing permissions and\n",
              "// limitations under the License.\n",
              "\n",
              "/**\n",
              " * @fileoverview Helpers for google.colab Python module.\n",
              " */\n",
              "(function(scope) {\n",
              "function span(text, styleAttributes = {}) {\n",
              "  const element = document.createElement('span');\n",
              "  element.textContent = text;\n",
              "  for (const key of Object.keys(styleAttributes)) {\n",
              "    element.style[key] = styleAttributes[key];\n",
              "  }\n",
              "  return element;\n",
              "}\n",
              "\n",
              "// Max number of bytes which will be uploaded at a time.\n",
              "const MAX_PAYLOAD_SIZE = 100 * 1024;\n",
              "\n",
              "function _uploadFiles(inputId, outputId) {\n",
              "  const steps = uploadFilesStep(inputId, outputId);\n",
              "  const outputElement = document.getElementById(outputId);\n",
              "  // Cache steps on the outputElement to make it available for the next call\n",
              "  // to uploadFilesContinue from Python.\n",
              "  outputElement.steps = steps;\n",
              "\n",
              "  return _uploadFilesContinue(outputId);\n",
              "}\n",
              "\n",
              "// This is roughly an async generator (not supported in the browser yet),\n",
              "// where there are multiple asynchronous steps and the Python side is going\n",
              "// to poll for completion of each step.\n",
              "// This uses a Promise to block the python side on completion of each step,\n",
              "// then passes the result of the previous step as the input to the next step.\n",
              "function _uploadFilesContinue(outputId) {\n",
              "  const outputElement = document.getElementById(outputId);\n",
              "  const steps = outputElement.steps;\n",
              "\n",
              "  const next = steps.next(outputElement.lastPromiseValue);\n",
              "  return Promise.resolve(next.value.promise).then((value) => {\n",
              "    // Cache the last promise value to make it available to the next\n",
              "    // step of the generator.\n",
              "    outputElement.lastPromiseValue = value;\n",
              "    return next.value.response;\n",
              "  });\n",
              "}\n",
              "\n",
              "/**\n",
              " * Generator function which is called between each async step of the upload\n",
              " * process.\n",
              " * @param {string} inputId Element ID of the input file picker element.\n",
              " * @param {string} outputId Element ID of the output display.\n",
              " * @return {!Iterable<!Object>} Iterable of next steps.\n",
              " */\n",
              "function* uploadFilesStep(inputId, outputId) {\n",
              "  const inputElement = document.getElementById(inputId);\n",
              "  inputElement.disabled = false;\n",
              "\n",
              "  const outputElement = document.getElementById(outputId);\n",
              "  outputElement.innerHTML = '';\n",
              "\n",
              "  const pickedPromise = new Promise((resolve) => {\n",
              "    inputElement.addEventListener('change', (e) => {\n",
              "      resolve(e.target.files);\n",
              "    });\n",
              "  });\n",
              "\n",
              "  const cancel = document.createElement('button');\n",
              "  inputElement.parentElement.appendChild(cancel);\n",
              "  cancel.textContent = 'Cancel upload';\n",
              "  const cancelPromise = new Promise((resolve) => {\n",
              "    cancel.onclick = () => {\n",
              "      resolve(null);\n",
              "    };\n",
              "  });\n",
              "\n",
              "  // Wait for the user to pick the files.\n",
              "  const files = yield {\n",
              "    promise: Promise.race([pickedPromise, cancelPromise]),\n",
              "    response: {\n",
              "      action: 'starting',\n",
              "    }\n",
              "  };\n",
              "\n",
              "  cancel.remove();\n",
              "\n",
              "  // Disable the input element since further picks are not allowed.\n",
              "  inputElement.disabled = true;\n",
              "\n",
              "  if (!files) {\n",
              "    return {\n",
              "      response: {\n",
              "        action: 'complete',\n",
              "      }\n",
              "    };\n",
              "  }\n",
              "\n",
              "  for (const file of files) {\n",
              "    const li = document.createElement('li');\n",
              "    li.append(span(file.name, {fontWeight: 'bold'}));\n",
              "    li.append(span(\n",
              "        `(${file.type || 'n/a'}) - ${file.size} bytes, ` +\n",
              "        `last modified: ${\n",
              "            file.lastModifiedDate ? file.lastModifiedDate.toLocaleDateString() :\n",
              "                                    'n/a'} - `));\n",
              "    const percent = span('0% done');\n",
              "    li.appendChild(percent);\n",
              "\n",
              "    outputElement.appendChild(li);\n",
              "\n",
              "    const fileDataPromise = new Promise((resolve) => {\n",
              "      const reader = new FileReader();\n",
              "      reader.onload = (e) => {\n",
              "        resolve(e.target.result);\n",
              "      };\n",
              "      reader.readAsArrayBuffer(file);\n",
              "    });\n",
              "    // Wait for the data to be ready.\n",
              "    let fileData = yield {\n",
              "      promise: fileDataPromise,\n",
              "      response: {\n",
              "        action: 'continue',\n",
              "      }\n",
              "    };\n",
              "\n",
              "    // Use a chunked sending to avoid message size limits. See b/62115660.\n",
              "    let position = 0;\n",
              "    do {\n",
              "      const length = Math.min(fileData.byteLength - position, MAX_PAYLOAD_SIZE);\n",
              "      const chunk = new Uint8Array(fileData, position, length);\n",
              "      position += length;\n",
              "\n",
              "      const base64 = btoa(String.fromCharCode.apply(null, chunk));\n",
              "      yield {\n",
              "        response: {\n",
              "          action: 'append',\n",
              "          file: file.name,\n",
              "          data: base64,\n",
              "        },\n",
              "      };\n",
              "\n",
              "      let percentDone = fileData.byteLength === 0 ?\n",
              "          100 :\n",
              "          Math.round((position / fileData.byteLength) * 100);\n",
              "      percent.textContent = `${percentDone}% done`;\n",
              "\n",
              "    } while (position < fileData.byteLength);\n",
              "  }\n",
              "\n",
              "  // All done.\n",
              "  yield {\n",
              "    response: {\n",
              "      action: 'complete',\n",
              "    }\n",
              "  };\n",
              "}\n",
              "\n",
              "scope.google = scope.google || {};\n",
              "scope.google.colab = scope.google.colab || {};\n",
              "scope.google.colab._files = {\n",
              "  _uploadFiles,\n",
              "  _uploadFilesContinue,\n",
              "};\n",
              "})(self);\n",
              "</script> "
            ]
          },
          "metadata": {}
        },
        {
          "output_type": "stream",
          "name": "stdout",
          "text": [
            "Saving aisles.csv to aisles.csv\n"
          ]
        },
        {
          "output_type": "display_data",
          "data": {
            "text/plain": [
              "<IPython.core.display.HTML object>"
            ],
            "text/html": [
              "\n",
              "     <input type=\"file\" id=\"files-cfc89a7b-a831-407e-87ef-1fda1f8f9949\" name=\"files[]\" multiple disabled\n",
              "        style=\"border:none\" />\n",
              "     <output id=\"result-cfc89a7b-a831-407e-87ef-1fda1f8f9949\">\n",
              "      Upload widget is only available when the cell has been executed in the\n",
              "      current browser session. Please rerun this cell to enable.\n",
              "      </output>\n",
              "      <script>// Copyright 2017 Google LLC\n",
              "//\n",
              "// Licensed under the Apache License, Version 2.0 (the \"License\");\n",
              "// you may not use this file except in compliance with the License.\n",
              "// You may obtain a copy of the License at\n",
              "//\n",
              "//      http://www.apache.org/licenses/LICENSE-2.0\n",
              "//\n",
              "// Unless required by applicable law or agreed to in writing, software\n",
              "// distributed under the License is distributed on an \"AS IS\" BASIS,\n",
              "// WITHOUT WARRANTIES OR CONDITIONS OF ANY KIND, either express or implied.\n",
              "// See the License for the specific language governing permissions and\n",
              "// limitations under the License.\n",
              "\n",
              "/**\n",
              " * @fileoverview Helpers for google.colab Python module.\n",
              " */\n",
              "(function(scope) {\n",
              "function span(text, styleAttributes = {}) {\n",
              "  const element = document.createElement('span');\n",
              "  element.textContent = text;\n",
              "  for (const key of Object.keys(styleAttributes)) {\n",
              "    element.style[key] = styleAttributes[key];\n",
              "  }\n",
              "  return element;\n",
              "}\n",
              "\n",
              "// Max number of bytes which will be uploaded at a time.\n",
              "const MAX_PAYLOAD_SIZE = 100 * 1024;\n",
              "\n",
              "function _uploadFiles(inputId, outputId) {\n",
              "  const steps = uploadFilesStep(inputId, outputId);\n",
              "  const outputElement = document.getElementById(outputId);\n",
              "  // Cache steps on the outputElement to make it available for the next call\n",
              "  // to uploadFilesContinue from Python.\n",
              "  outputElement.steps = steps;\n",
              "\n",
              "  return _uploadFilesContinue(outputId);\n",
              "}\n",
              "\n",
              "// This is roughly an async generator (not supported in the browser yet),\n",
              "// where there are multiple asynchronous steps and the Python side is going\n",
              "// to poll for completion of each step.\n",
              "// This uses a Promise to block the python side on completion of each step,\n",
              "// then passes the result of the previous step as the input to the next step.\n",
              "function _uploadFilesContinue(outputId) {\n",
              "  const outputElement = document.getElementById(outputId);\n",
              "  const steps = outputElement.steps;\n",
              "\n",
              "  const next = steps.next(outputElement.lastPromiseValue);\n",
              "  return Promise.resolve(next.value.promise).then((value) => {\n",
              "    // Cache the last promise value to make it available to the next\n",
              "    // step of the generator.\n",
              "    outputElement.lastPromiseValue = value;\n",
              "    return next.value.response;\n",
              "  });\n",
              "}\n",
              "\n",
              "/**\n",
              " * Generator function which is called between each async step of the upload\n",
              " * process.\n",
              " * @param {string} inputId Element ID of the input file picker element.\n",
              " * @param {string} outputId Element ID of the output display.\n",
              " * @return {!Iterable<!Object>} Iterable of next steps.\n",
              " */\n",
              "function* uploadFilesStep(inputId, outputId) {\n",
              "  const inputElement = document.getElementById(inputId);\n",
              "  inputElement.disabled = false;\n",
              "\n",
              "  const outputElement = document.getElementById(outputId);\n",
              "  outputElement.innerHTML = '';\n",
              "\n",
              "  const pickedPromise = new Promise((resolve) => {\n",
              "    inputElement.addEventListener('change', (e) => {\n",
              "      resolve(e.target.files);\n",
              "    });\n",
              "  });\n",
              "\n",
              "  const cancel = document.createElement('button');\n",
              "  inputElement.parentElement.appendChild(cancel);\n",
              "  cancel.textContent = 'Cancel upload';\n",
              "  const cancelPromise = new Promise((resolve) => {\n",
              "    cancel.onclick = () => {\n",
              "      resolve(null);\n",
              "    };\n",
              "  });\n",
              "\n",
              "  // Wait for the user to pick the files.\n",
              "  const files = yield {\n",
              "    promise: Promise.race([pickedPromise, cancelPromise]),\n",
              "    response: {\n",
              "      action: 'starting',\n",
              "    }\n",
              "  };\n",
              "\n",
              "  cancel.remove();\n",
              "\n",
              "  // Disable the input element since further picks are not allowed.\n",
              "  inputElement.disabled = true;\n",
              "\n",
              "  if (!files) {\n",
              "    return {\n",
              "      response: {\n",
              "        action: 'complete',\n",
              "      }\n",
              "    };\n",
              "  }\n",
              "\n",
              "  for (const file of files) {\n",
              "    const li = document.createElement('li');\n",
              "    li.append(span(file.name, {fontWeight: 'bold'}));\n",
              "    li.append(span(\n",
              "        `(${file.type || 'n/a'}) - ${file.size} bytes, ` +\n",
              "        `last modified: ${\n",
              "            file.lastModifiedDate ? file.lastModifiedDate.toLocaleDateString() :\n",
              "                                    'n/a'} - `));\n",
              "    const percent = span('0% done');\n",
              "    li.appendChild(percent);\n",
              "\n",
              "    outputElement.appendChild(li);\n",
              "\n",
              "    const fileDataPromise = new Promise((resolve) => {\n",
              "      const reader = new FileReader();\n",
              "      reader.onload = (e) => {\n",
              "        resolve(e.target.result);\n",
              "      };\n",
              "      reader.readAsArrayBuffer(file);\n",
              "    });\n",
              "    // Wait for the data to be ready.\n",
              "    let fileData = yield {\n",
              "      promise: fileDataPromise,\n",
              "      response: {\n",
              "        action: 'continue',\n",
              "      }\n",
              "    };\n",
              "\n",
              "    // Use a chunked sending to avoid message size limits. See b/62115660.\n",
              "    let position = 0;\n",
              "    do {\n",
              "      const length = Math.min(fileData.byteLength - position, MAX_PAYLOAD_SIZE);\n",
              "      const chunk = new Uint8Array(fileData, position, length);\n",
              "      position += length;\n",
              "\n",
              "      const base64 = btoa(String.fromCharCode.apply(null, chunk));\n",
              "      yield {\n",
              "        response: {\n",
              "          action: 'append',\n",
              "          file: file.name,\n",
              "          data: base64,\n",
              "        },\n",
              "      };\n",
              "\n",
              "      let percentDone = fileData.byteLength === 0 ?\n",
              "          100 :\n",
              "          Math.round((position / fileData.byteLength) * 100);\n",
              "      percent.textContent = `${percentDone}% done`;\n",
              "\n",
              "    } while (position < fileData.byteLength);\n",
              "  }\n",
              "\n",
              "  // All done.\n",
              "  yield {\n",
              "    response: {\n",
              "      action: 'complete',\n",
              "    }\n",
              "  };\n",
              "}\n",
              "\n",
              "scope.google = scope.google || {};\n",
              "scope.google.colab = scope.google.colab || {};\n",
              "scope.google.colab._files = {\n",
              "  _uploadFiles,\n",
              "  _uploadFilesContinue,\n",
              "};\n",
              "})(self);\n",
              "</script> "
            ]
          },
          "metadata": {}
        },
        {
          "output_type": "stream",
          "name": "stdout",
          "text": [
            "Saving order_products.csv to order_products.csv\n"
          ]
        }
      ]
    },
    {
      "cell_type": "code",
      "source": [
        "# Loading the datasets\n",
        "# Note: These files use semicolon as the separator instead of a comma\n",
        "orders          = pd.read_csv('instacart_orders.csv', sep=';')\n",
        "products        = pd.read_csv('products.csv', sep=';')\n",
        "departments     = pd.read_csv('departments.csv', sep=';')\n",
        "aisles          = pd.read_csv('aisles.csv', sep=';')\n",
        "order_products  = pd.read_csv('order_products.csv', sep=';')"
      ],
      "metadata": {
        "id": "jhbLAEUNfqyk"
      },
      "execution_count": 4,
      "outputs": []
    },
    {
      "cell_type": "markdown",
      "source": [
        "## Analyzing the data\n",
        "Displaying the datasets by using .info() and .head() to gain insights on their structure and content."
      ],
      "metadata": {
        "id": "qzhyKRNRlQML"
      }
    },
    {
      "cell_type": "code",
      "source": [
        "# Creating a function that way we don't duplicate code\n",
        "def head_and_info(dataframe_name, dataframe):\n",
        "  print(f\"Here is the {dataframe_name} dataset: \")\n",
        "  print(dataframe.head())\n",
        "  print(dataframe.info(), \"\\n\")\n",
        "\n",
        "head_and_info(\"Orders\",orders)\n",
        "head_and_info(\"Products\",products)\n",
        "head_and_info(\"Departments\",departments)\n",
        "head_and_info(\"Aisles\",aisles)\n",
        "head_and_info(\"Order Products\",order_products)"
      ],
      "metadata": {
        "id": "_abUrEOVmEwz",
        "colab": {
          "base_uri": "https://localhost:8080/"
        },
        "outputId": "7c8d9943-040b-436a-f2f2-d0e54b1d2799"
      },
      "execution_count": 5,
      "outputs": [
        {
          "output_type": "stream",
          "name": "stdout",
          "text": [
            "Here is the Orders dataset: \n",
            "   order_id  user_id  order_number  order_dow  order_hour_of_day  \\\n",
            "0   1515936   183418            11          6                 13   \n",
            "1   1690866   163593             5          5                 12   \n",
            "2   1454967    39980             4          5                 19   \n",
            "3   1768857    82516            56          0                 20   \n",
            "4   3007858   196724             2          4                 12   \n",
            "\n",
            "   days_since_prior_order  \n",
            "0                    30.0  \n",
            "1                     9.0  \n",
            "2                     2.0  \n",
            "3                    10.0  \n",
            "4                    17.0  \n",
            "<class 'pandas.core.frame.DataFrame'>\n",
            "RangeIndex: 478967 entries, 0 to 478966\n",
            "Data columns (total 6 columns):\n",
            " #   Column                  Non-Null Count   Dtype  \n",
            "---  ------                  --------------   -----  \n",
            " 0   order_id                478967 non-null  int64  \n",
            " 1   user_id                 478967 non-null  int64  \n",
            " 2   order_number            478967 non-null  int64  \n",
            " 3   order_dow               478967 non-null  int64  \n",
            " 4   order_hour_of_day       478967 non-null  int64  \n",
            " 5   days_since_prior_order  450148 non-null  float64\n",
            "dtypes: float64(1), int64(5)\n",
            "memory usage: 21.9 MB\n",
            "None \n",
            "\n",
            "Here is the Products dataset: \n",
            "   product_id                                       product_name  aisle_id  \\\n",
            "0           1                         Chocolate Sandwich Cookies        61   \n",
            "1           2                                   All-Seasons Salt       104   \n",
            "2           3               Robust Golden Unsweetened Oolong Tea        94   \n",
            "3           4  Smart Ones Classic Favorites Mini Rigatoni Wit...        38   \n",
            "4           5                          Green Chile Anytime Sauce         5   \n",
            "\n",
            "   department_id  \n",
            "0             19  \n",
            "1             13  \n",
            "2              7  \n",
            "3              1  \n",
            "4             13  \n",
            "<class 'pandas.core.frame.DataFrame'>\n",
            "RangeIndex: 49694 entries, 0 to 49693\n",
            "Data columns (total 4 columns):\n",
            " #   Column         Non-Null Count  Dtype \n",
            "---  ------         --------------  ----- \n",
            " 0   product_id     49694 non-null  int64 \n",
            " 1   product_name   48436 non-null  object\n",
            " 2   aisle_id       49694 non-null  int64 \n",
            " 3   department_id  49694 non-null  int64 \n",
            "dtypes: int64(3), object(1)\n",
            "memory usage: 1.5+ MB\n",
            "None \n",
            "\n",
            "Here is the Departments dataset: \n",
            "   department_id department\n",
            "0              1     frozen\n",
            "1              2      other\n",
            "2              3     bakery\n",
            "3              4    produce\n",
            "4              5    alcohol\n",
            "<class 'pandas.core.frame.DataFrame'>\n",
            "RangeIndex: 21 entries, 0 to 20\n",
            "Data columns (total 2 columns):\n",
            " #   Column         Non-Null Count  Dtype \n",
            "---  ------         --------------  ----- \n",
            " 0   department_id  21 non-null     int64 \n",
            " 1   department     21 non-null     object\n",
            "dtypes: int64(1), object(1)\n",
            "memory usage: 468.0+ bytes\n",
            "None \n",
            "\n",
            "Here is the Aisles dataset: \n",
            "   aisle_id                       aisle\n",
            "0         1       prepared soups salads\n",
            "1         2           specialty cheeses\n",
            "2         3         energy granola bars\n",
            "3         4               instant foods\n",
            "4         5  marinades meat preparation\n",
            "<class 'pandas.core.frame.DataFrame'>\n",
            "RangeIndex: 134 entries, 0 to 133\n",
            "Data columns (total 2 columns):\n",
            " #   Column    Non-Null Count  Dtype \n",
            "---  ------    --------------  ----- \n",
            " 0   aisle_id  134 non-null    int64 \n",
            " 1   aisle     134 non-null    object\n",
            "dtypes: int64(1), object(1)\n",
            "memory usage: 2.2+ KB\n",
            "None \n",
            "\n",
            "Here is the Order Products dataset: \n",
            "   order_id  product_id  add_to_cart_order  reordered\n",
            "0   2141543       11440               17.0          0\n",
            "1    567889        1560                1.0          1\n",
            "2   2261212       26683                1.0          1\n",
            "3    491251        8670               35.0          1\n",
            "4   2571142        1940                5.0          1\n",
            "<class 'pandas.core.frame.DataFrame'>\n",
            "RangeIndex: 4545007 entries, 0 to 4545006\n",
            "Data columns (total 4 columns):\n",
            " #   Column             Dtype  \n",
            "---  ------             -----  \n",
            " 0   order_id           int64  \n",
            " 1   product_id         int64  \n",
            " 2   add_to_cart_order  float64\n",
            " 3   reordered          int64  \n",
            "dtypes: float64(1), int64(3)\n",
            "memory usage: 138.7 MB\n",
            "None \n",
            "\n"
          ]
        }
      ]
    },
    {
      "cell_type": "markdown",
      "source": [
        "## Find and Remove Missing Values\n",
        "I noticed that some DataFrame columns contain missing values. I will be addressing the following DataFrames that have missing values:\n",
        "- products\n",
        "- orders\n",
        "- order_products"
      ],
      "metadata": {
        "id": "tOpeGNMKxb4O"
      }
    },
    {
      "cell_type": "markdown",
      "source": [
        "### ***products*** DataFrame"
      ],
      "metadata": {
        "id": "NMA-yLPW5tOW"
      }
    },
    {
      "cell_type": "code",
      "source": [
        "# Displaying rows where the product_name colum has missing values\n",
        "print(products[products['product_name'].isna()])"
      ],
      "metadata": {
        "colab": {
          "base_uri": "https://localhost:8080/"
        },
        "id": "5jWgZIXWxa-Y",
        "outputId": "249d8ca9-78e8-4212-dba7-e44544dbca32"
      },
      "execution_count": 6,
      "outputs": [
        {
          "output_type": "stream",
          "name": "stdout",
          "text": [
            "       product_id product_name  aisle_id  department_id\n",
            "37             38          NaN       100             21\n",
            "71             72          NaN       100             21\n",
            "109           110          NaN       100             21\n",
            "296           297          NaN       100             21\n",
            "416           417          NaN       100             21\n",
            "...           ...          ...       ...            ...\n",
            "49552       49553          NaN       100             21\n",
            "49574       49575          NaN       100             21\n",
            "49640       49641          NaN       100             21\n",
            "49663       49664          NaN       100             21\n",
            "49668       49669          NaN       100             21\n",
            "\n",
            "[1258 rows x 4 columns]\n"
          ]
        }
      ]
    },
    {
      "cell_type": "markdown",
      "source": [
        "Upon looking at the rows with missing product_name, it seems to be associated with aisle_id 100 and department_id 21. We can verify this by checking if any rows with missing product_name have any value different from aisle_id 100 and department_id 21."
      ],
      "metadata": {
        "id": "3bUctk9S6ERG"
      }
    },
    {
      "cell_type": "code",
      "source": [
        "# Combining conditions to check for missing product names in aisles other than 100\n",
        "other_than_100 = products['product_name'].isna() & (products['aisle_id'] != 100)\n",
        "print(other_than_100)\n",
        "\n",
        "# Combining conditions to check for missing product names in departments other than 21\n",
        "other_than_21 = products['product_name'].isna() & (products['department_id'] != 21)\n",
        "print(other_than_21)"
      ],
      "metadata": {
        "colab": {
          "base_uri": "https://localhost:8080/"
        },
        "id": "TjAXAsXB6Ddd",
        "outputId": "b92d4972-dc31-45e8-c6a9-5b1a48f60d06"
      },
      "execution_count": 7,
      "outputs": [
        {
          "output_type": "stream",
          "name": "stdout",
          "text": [
            "0        False\n",
            "1        False\n",
            "2        False\n",
            "3        False\n",
            "4        False\n",
            "         ...  \n",
            "49689    False\n",
            "49690    False\n",
            "49691    False\n",
            "49692    False\n",
            "49693    False\n",
            "Length: 49694, dtype: bool\n",
            "0        False\n",
            "1        False\n",
            "2        False\n",
            "3        False\n",
            "4        False\n",
            "         ...  \n",
            "49689    False\n",
            "49690    False\n",
            "49691    False\n",
            "49692    False\n",
            "49693    False\n",
            "Length: 49694, dtype: bool\n"
          ]
        }
      ]
    },
    {
      "cell_type": "markdown",
      "source": [
        "To get a better understanding of the missing product_name values, let's determine what department_id 21 and aisle_id 100 represent by referencing the departments and aisles tables."
      ],
      "metadata": {
        "id": "V7AMjwds7iIN"
      }
    },
    {
      "cell_type": "code",
      "source": [
        "# Remember to subtract 1 from 100 and 21\n",
        "\n",
        "# What is aisle 100?\n",
        "print(aisles.iloc[99])\n",
        "\n",
        "# What is department 21?\n",
        "print(departments.iloc[20])"
      ],
      "metadata": {
        "colab": {
          "base_uri": "https://localhost:8080/"
        },
        "id": "f_0oB3MD7x2t",
        "outputId": "d7780f8b-3c0d-4138-90ec-e068e16137f7"
      },
      "execution_count": 8,
      "outputs": [
        {
          "output_type": "stream",
          "name": "stdout",
          "text": [
            "aisle_id        100\n",
            "aisle       missing\n",
            "Name: 99, dtype: object\n",
            "department_id         21\n",
            "department       missing\n",
            "Name: 20, dtype: object\n"
          ]
        }
      ]
    },
    {
      "cell_type": "code",
      "source": [
        "# Filling in the missing product names with 'Unknown'\n",
        "products['product_name'].fillna('Unknown', inplace=True)\n",
        "\n",
        "# Checking my work on a row that had a missing product_name\n",
        "print(products['product_name'].loc[37])"
      ],
      "metadata": {
        "colab": {
          "base_uri": "https://localhost:8080/"
        },
        "id": "EIY--llg8Zkq",
        "outputId": "590a0615-7b69-4f6e-cccd-d7e81d1abd53"
      },
      "execution_count": 9,
      "outputs": [
        {
          "output_type": "stream",
          "name": "stdout",
          "text": [
            "Unknown\n"
          ]
        },
        {
          "output_type": "stream",
          "name": "stderr",
          "text": [
            "/tmp/ipython-input-1819489576.py:2: FutureWarning: A value is trying to be set on a copy of a DataFrame or Series through chained assignment using an inplace method.\n",
            "The behavior will change in pandas 3.0. This inplace method will never work because the intermediate object on which we are setting values always behaves as a copy.\n",
            "\n",
            "For example, when doing 'df[col].method(value, inplace=True)', try using 'df.method({col: value}, inplace=True)' or df[col] = df[col].method(value) instead, to perform the operation inplace on the original object.\n",
            "\n",
            "\n",
            "  products['product_name'].fillna('Unknown', inplace=True)\n"
          ]
        }
      ]
    },
    {
      "cell_type": "markdown",
      "source": [
        "### ***orders*** DataFrame"
      ],
      "metadata": {
        "id": "OoNexD5G8-dK"
      }
    },
    {
      "cell_type": "code",
      "source": [
        "# Display rows where the days_since_prior_order column has missing values\n",
        "print(orders[orders['days_since_prior_order'].isna()])"
      ],
      "metadata": {
        "colab": {
          "base_uri": "https://localhost:8080/"
        },
        "id": "UNF9mO0A9Jpz",
        "outputId": "f231a724-7eff-4f1a-de9d-42dbe241e963"
      },
      "execution_count": 10,
      "outputs": [
        {
          "output_type": "stream",
          "name": "stdout",
          "text": [
            "        order_id  user_id  order_number  order_dow  order_hour_of_day  \\\n",
            "28        133707   182261             1          3                 10   \n",
            "96        787445    25685             1          6                 18   \n",
            "100       294410   111449             1          0                 19   \n",
            "103      2869915   123958             1          4                 16   \n",
            "104      2521921    42286             1          3                 18   \n",
            "...          ...      ...           ...        ...                ...   \n",
            "478895   2589657   205028             1          0                 16   \n",
            "478896   2222353   141211             1          2                 13   \n",
            "478922   2272807   204154             1          1                 15   \n",
            "478926   2499542    68810             1          4                 19   \n",
            "478945   1387033    22496             1          5                 14   \n",
            "\n",
            "        days_since_prior_order  \n",
            "28                         NaN  \n",
            "96                         NaN  \n",
            "100                        NaN  \n",
            "103                        NaN  \n",
            "104                        NaN  \n",
            "...                        ...  \n",
            "478895                     NaN  \n",
            "478896                     NaN  \n",
            "478922                     NaN  \n",
            "478926                     NaN  \n",
            "478945                     NaN  \n",
            "\n",
            "[28819 rows x 6 columns]\n"
          ]
        }
      ]
    },
    {
      "cell_type": "code",
      "source": [
        "# Are there any missing values where it's not a customer's first order?\n",
        "not_customers_first_order = orders['days_since_prior_order'].isna() & (orders['order_number'] != 1)\n",
        "print(not_customers_first_order)"
      ],
      "metadata": {
        "colab": {
          "base_uri": "https://localhost:8080/"
        },
        "id": "arAFkvTB9cPL",
        "outputId": "ff63097b-5436-4b3c-ae71-bffc8dc3ffda"
      },
      "execution_count": 11,
      "outputs": [
        {
          "output_type": "stream",
          "name": "stdout",
          "text": [
            "0         False\n",
            "1         False\n",
            "2         False\n",
            "3         False\n",
            "4         False\n",
            "          ...  \n",
            "478962    False\n",
            "478963    False\n",
            "478964    False\n",
            "478965    False\n",
            "478966    False\n",
            "Length: 478967, dtype: bool\n"
          ]
        }
      ]
    },
    {
      "cell_type": "markdown",
      "source": [
        "All of the missing 'days_since_prior_order' values correspond to a customer's first ever order. This makes sense since there is no prior order for the customers who have just made an order. Leaning the values as NaN so that the column can remain numeric. It also shouldn't interfere with any calculations."
      ],
      "metadata": {
        "id": "SpPDaM669ZG3"
      }
    },
    {
      "cell_type": "markdown",
      "source": [
        "### ***order_products*** DataFrame"
      ],
      "metadata": {
        "id": "Zboq_9TP-X8R"
      }
    },
    {
      "cell_type": "code",
      "source": [
        "# Display rows where the add_to_cart_order column has missing values\n",
        "print(order_products[order_products['add_to_cart_order'].isna()])"
      ],
      "metadata": {
        "colab": {
          "base_uri": "https://localhost:8080/"
        },
        "id": "I8ki4iY39mWB",
        "outputId": "dbd53ff3-ad0a-4d85-c0a1-bec73496607c"
      },
      "execution_count": 12,
      "outputs": [
        {
          "output_type": "stream",
          "name": "stdout",
          "text": [
            "         order_id  product_id  add_to_cart_order  reordered\n",
            "737       2449164        5068                NaN          0\n",
            "9926      1968313       43867                NaN          0\n",
            "14394     2926893       11688                NaN          0\n",
            "16418     1717990        4142                NaN          0\n",
            "30114     1959075       42828                NaN          1\n",
            "...           ...         ...                ...        ...\n",
            "4505662   1800005        7411                NaN          0\n",
            "4511400   1633337         260                NaN          0\n",
            "4517562    404157        9517                NaN          0\n",
            "4534112   1673227       17835                NaN          0\n",
            "4535739   1832957       17949                NaN          1\n",
            "\n",
            "[836 rows x 4 columns]\n"
          ]
        }
      ]
    },
    {
      "cell_type": "code",
      "source": [
        "# Using .min() and .max() to find the minimum and maximum values for this column.\n",
        "minimum = order_products['add_to_cart_order'].min()\n",
        "maximum = order_products['add_to_cart_order'].max()\n",
        "print(f\"The minimum value is {minimum} and the maximum value is {maximum}.\")"
      ],
      "metadata": {
        "colab": {
          "base_uri": "https://localhost:8080/"
        },
        "id": "RB22PyaZ_XPW",
        "outputId": "8279f0e7-23c8-4ee1-e753-ba5868c14418"
      },
      "execution_count": 13,
      "outputs": [
        {
          "output_type": "stream",
          "name": "stdout",
          "text": [
            "The minimum value is 1.0 and the maximum value is 64.0.\n"
          ]
        }
      ]
    },
    {
      "cell_type": "code",
      "source": [
        "# Save all order IDs with at least one missing values in 'add_to_cart_order'\n",
        "missing_add_to_cart_order = order_products[order_products['add_to_cart_order'].isna()]\n",
        "\n",
        "# Using unique as there can be multiple orders with the same 'order_id'\n",
        "missing_add_to_cart_order_ids = missing_add_to_cart_order['order_id'].unique()\n",
        "print(missing_add_to_cart_order_ids)"
      ],
      "metadata": {
        "colab": {
          "base_uri": "https://localhost:8080/"
        },
        "id": "ESMKFx5P_nx6",
        "outputId": "0335225a-cc68-478e-bb2a-a3cee2413346"
      },
      "execution_count": 14,
      "outputs": [
        {
          "output_type": "stream",
          "name": "stdout",
          "text": [
            "[2449164 1968313 2926893 1717990 1959075  844733   61355  936852  264710\n",
            " 1564093  129627  293169 2849370 1386261 3308010  903110 2136777 3347453\n",
            " 1888628  165801 2094761 1038146 2997021  813364 2256933  171934 2409109\n",
            " 1730767 1169835  733526  404157 3125735  747668 1800005 1961723  871281\n",
            "  388234 1648217 1477139  102236 1021563 1832957 2721963  678116 1220886\n",
            " 1673227 2999801 1633337 2470674 2625444 1677118 2479011 3383594 1183255\n",
            " 1713430 2652650 1598369 1916118  854647 1302315  888470  180546 2621907\n",
            " 1308785 2729254    9310 2170451 2979697 1625713 1529171]\n"
          ]
        }
      ]
    },
    {
      "cell_type": "code",
      "source": [
        "# Do all orders with missing values have more than 64 peoducts?\n",
        "missing_orders = order_products[order_products['order_id'].isin(missing_add_to_cart_order_ids)]\n",
        "\n",
        "# Grouping all orders by order_id since there are multiple orders that have the same id\n",
        "group_missing_order = missing_orders.groupby('order_id').size()\n",
        "\n",
        "# Verifying if they are all more than 64\n",
        "more_than_64 = (group_missing_order > 64).all()\n",
        "print(more_than_64)"
      ],
      "metadata": {
        "colab": {
          "base_uri": "https://localhost:8080/"
        },
        "id": "6Dk7Ohp9BFG0",
        "outputId": "27429f16-5a10-46c6-db71-43e4d3bfe577"
      },
      "execution_count": 15,
      "outputs": [
        {
          "output_type": "stream",
          "name": "stdout",
          "text": [
            "True\n"
          ]
        }
      ]
    },
    {
      "cell_type": "code",
      "source": [
        "# Replace missing values with 999\n",
        "order_products['add_to_cart_order'].fillna(value = 999, inplace = True)\n",
        "\n",
        "# Making sure it changed to 999.0\n",
        "print(order_products['add_to_cart_order'].loc[737])\n",
        "\n",
        "# Changing it from float to integer\n",
        "order_products['add_to_cart_order'] = order_products['add_to_cart_order'].astype(int)\n",
        "\n",
        "# Checking if it did change from float to int\n",
        "print(order_products['add_to_cart_order'].dtype)"
      ],
      "metadata": {
        "colab": {
          "base_uri": "https://localhost:8080/"
        },
        "id": "XU66k2pGB33j",
        "outputId": "fae54241-fb5b-49b9-a9db-fcb9e803015a"
      },
      "execution_count": 16,
      "outputs": [
        {
          "output_type": "stream",
          "name": "stdout",
          "text": [
            "999.0\n",
            "int64\n"
          ]
        },
        {
          "output_type": "stream",
          "name": "stderr",
          "text": [
            "/tmp/ipython-input-379090057.py:2: FutureWarning: A value is trying to be set on a copy of a DataFrame or Series through chained assignment using an inplace method.\n",
            "The behavior will change in pandas 3.0. This inplace method will never work because the intermediate object on which we are setting values always behaves as a copy.\n",
            "\n",
            "For example, when doing 'df[col].method(value, inplace=True)', try using 'df.method({col: value}, inplace=True)' or df[col] = df[col].method(value) instead, to perform the operation inplace on the original object.\n",
            "\n",
            "\n",
            "  order_products['add_to_cart_order'].fillna(value = 999, inplace = True)\n"
          ]
        }
      ]
    },
    {
      "cell_type": "markdown",
      "source": [
        "For some reason, any item placed in the cart 65th or later has a missing value in the 'add_to_cart_order' column. Maybe the data type of that columnn in the database could only hold integer values from 1 to 64. I have decided to replace the missing values with a code value, 999, that represents an unknown placed in cart order above 64. I also converted the column into the integer data type.\n",
        "\n",
        "Other sensible code values I could've used were 0 or -1 because they don't show up elsewhere in the dataset and they don't have any real physical meaning for this variable."
      ],
      "metadata": {
        "id": "StsMkIPdIwH7"
      }
    },
    {
      "cell_type": "markdown",
      "source": [
        "## Find and Remove Duplicate Values from All the Datasets\n",
        "Each dataset may contain duplicate rows, which can lead to redundancy and affect the accuracy of my analysis."
      ],
      "metadata": {
        "id": "-kZF7z4HJhSO"
      }
    },
    {
      "cell_type": "code",
      "source": [
        "# Checking if the dataframes have duplicate values\n",
        "def duplicate_values(dataframe_name, dataframe):\n",
        "  print(f\"There are {dataframe.duplicated().sum()} duplicate values in the {dataframe_name} dataset.\")\n",
        "\n",
        "duplicate_values(\"Orders\",orders)\n",
        "duplicate_values(\"Products\",products)\n",
        "duplicate_values(\"Departments\",departments)\n",
        "duplicate_values(\"Aisles\",aisles)\n",
        "duplicate_values(\"Order Products\",order_products)"
      ],
      "metadata": {
        "colab": {
          "base_uri": "https://localhost:8080/"
        },
        "id": "KD9uTrKHKHgR",
        "outputId": "7aa87e21-b724-4795-db31-895a2f1a75d6"
      },
      "execution_count": 17,
      "outputs": [
        {
          "output_type": "stream",
          "name": "stdout",
          "text": [
            "There are 15 duplicate values in the Orders dataset.\n",
            "There are 0 duplicate values in the Products dataset.\n",
            "There are 0 duplicate values in the Departments dataset.\n",
            "There are 0 duplicate values in the Aisles dataset.\n",
            "There are 0 duplicate values in the Order Products dataset.\n"
          ]
        }
      ]
    },
    {
      "cell_type": "markdown",
      "source": [
        "I need to dive deeper into the orders dataframe to figure out what is duplicated."
      ],
      "metadata": {
        "id": "uxwjyFjxK14A"
      }
    },
    {
      "cell_type": "code",
      "source": [
        "# Looking at the orders dataframe\n",
        "print(orders[orders.duplicated()])"
      ],
      "metadata": {
        "colab": {
          "base_uri": "https://localhost:8080/"
        },
        "id": "moIOm439NBoh",
        "outputId": "1e6c0b34-b8c2-4b53-964b-c1cd1e7eee01"
      },
      "execution_count": 18,
      "outputs": [
        {
          "output_type": "stream",
          "name": "stdout",
          "text": [
            "        order_id  user_id  order_number  order_dow  order_hour_of_day  \\\n",
            "145574    794638    50898            24          3                  2   \n",
            "223105   2160484   107525            16          3                  2   \n",
            "230807   1918001   188546            14          3                  2   \n",
            "266232   1782114   106752             1          3                  2   \n",
            "273805   1112182   202304            84          3                  2   \n",
            "284038   2845099    31189            11          3                  2   \n",
            "311713   1021560    53767             3          3                  2   \n",
            "321100    408114    68324             4          3                  2   \n",
            "323900   1919531   191501            32          3                  2   \n",
            "345917   2232988    82565             1          3                  2   \n",
            "371905    391768    57671            19          3                  2   \n",
            "394347    467134    63189            21          3                  2   \n",
            "411408   1286742   183220            48          3                  2   \n",
            "415163   2282673    86751            49          3                  2   \n",
            "441599   2125197    14050            48          3                  2   \n",
            "\n",
            "        days_since_prior_order  \n",
            "145574                     2.0  \n",
            "223105                    30.0  \n",
            "230807                    16.0  \n",
            "266232                     NaN  \n",
            "273805                     6.0  \n",
            "284038                     7.0  \n",
            "311713                     9.0  \n",
            "321100                    18.0  \n",
            "323900                     7.0  \n",
            "345917                     NaN  \n",
            "371905                    10.0  \n",
            "394347                     2.0  \n",
            "411408                     4.0  \n",
            "415163                     2.0  \n",
            "441599                     3.0  \n"
          ]
        }
      ]
    },
    {
      "cell_type": "code",
      "source": [
        "# Removing duplicated orders\n",
        "orders = orders.drop_duplicates().reset_index(drop=True)\n",
        "\n",
        "# Checking if the duplicated orders have been dropped\n",
        "print(orders.duplicated().sum())"
      ],
      "metadata": {
        "colab": {
          "base_uri": "https://localhost:8080/"
        },
        "id": "2_8DMqPdO3Vg",
        "outputId": "b1a8e077-0926-4a30-d4ee-472e0e220875"
      },
      "execution_count": 19,
      "outputs": [
        {
          "output_type": "stream",
          "name": "stdout",
          "text": [
            "0\n"
          ]
        }
      ]
    },
    {
      "cell_type": "markdown",
      "source": [
        "I need to dive deeper into the products dataframe as there are duplicate names. There are some that are upper and lower case that are the same."
      ],
      "metadata": {
        "id": "QJGmLeZDjlOI"
      }
    },
    {
      "cell_type": "code",
      "source": [
        "# Checking for duplicated product names (converting names to lowercase to compare)\n",
        "duplicated_values_lowercase = products[products['product_name'].str.lower().duplicated()]\n",
        "print(duplicated_values_lowercase)"
      ],
      "metadata": {
        "colab": {
          "base_uri": "https://localhost:8080/"
        },
        "id": "2W_XnZFdPJIR",
        "outputId": "9a660158-e409-45ea-c35c-fee1bf264ca2"
      },
      "execution_count": 20,
      "outputs": [
        {
          "output_type": "stream",
          "name": "stdout",
          "text": [
            "       product_id                                     product_name  aisle_id  \\\n",
            "71             72                                          Unknown       100   \n",
            "109           110                                          Unknown       100   \n",
            "296           297                                          Unknown       100   \n",
            "416           417                                          Unknown       100   \n",
            "436           437                                          Unknown       100   \n",
            "...           ...                                              ...       ...   \n",
            "49689       49690                    HIGH PERFORMANCE ENERGY DRINK        64   \n",
            "49690       49691                    ORIGINAL PANCAKE & WAFFLE MIX       130   \n",
            "49691       49692  ORGANIC INSTANT OATMEAL LIGHT MAPLE BROWN SUGAR       130   \n",
            "49692       49693                           SPRING WATER BODY WASH       127   \n",
            "49693       49694                          BURRITO- STEAK & CHEESE        38   \n",
            "\n",
            "       department_id  \n",
            "71                21  \n",
            "109               21  \n",
            "296               21  \n",
            "416               21  \n",
            "436               21  \n",
            "...              ...  \n",
            "49689              7  \n",
            "49690             14  \n",
            "49691             14  \n",
            "49692             11  \n",
            "49693              1  \n",
            "\n",
            "[1361 rows x 4 columns]\n"
          ]
        }
      ]
    },
    {
      "cell_type": "code",
      "source": [
        "# Looking at a duplicated value\n",
        "products[products['product_name'].str.lower() == 'high performance energy drink']"
      ],
      "metadata": {
        "colab": {
          "base_uri": "https://localhost:8080/",
          "height": 112
        },
        "id": "llqlYjmZkL3G",
        "outputId": "fe25e6e6-942e-42a0-a434-280016c587d1"
      },
      "execution_count": 21,
      "outputs": [
        {
          "output_type": "execute_result",
          "data": {
            "text/plain": [
              "       product_id                   product_name  aisle_id  department_id\n",
              "22540       22541  High Performance Energy Drink        64              7\n",
              "49689       49690  HIGH PERFORMANCE ENERGY DRINK        64              7"
            ],
            "text/html": [
              "\n",
              "  <div id=\"df-f24986c8-3468-4254-a885-663eb7a8bd14\" class=\"colab-df-container\">\n",
              "    <div>\n",
              "<style scoped>\n",
              "    .dataframe tbody tr th:only-of-type {\n",
              "        vertical-align: middle;\n",
              "    }\n",
              "\n",
              "    .dataframe tbody tr th {\n",
              "        vertical-align: top;\n",
              "    }\n",
              "\n",
              "    .dataframe thead th {\n",
              "        text-align: right;\n",
              "    }\n",
              "</style>\n",
              "<table border=\"1\" class=\"dataframe\">\n",
              "  <thead>\n",
              "    <tr style=\"text-align: right;\">\n",
              "      <th></th>\n",
              "      <th>product_id</th>\n",
              "      <th>product_name</th>\n",
              "      <th>aisle_id</th>\n",
              "      <th>department_id</th>\n",
              "    </tr>\n",
              "  </thead>\n",
              "  <tbody>\n",
              "    <tr>\n",
              "      <th>22540</th>\n",
              "      <td>22541</td>\n",
              "      <td>High Performance Energy Drink</td>\n",
              "      <td>64</td>\n",
              "      <td>7</td>\n",
              "    </tr>\n",
              "    <tr>\n",
              "      <th>49689</th>\n",
              "      <td>49690</td>\n",
              "      <td>HIGH PERFORMANCE ENERGY DRINK</td>\n",
              "      <td>64</td>\n",
              "      <td>7</td>\n",
              "    </tr>\n",
              "  </tbody>\n",
              "</table>\n",
              "</div>\n",
              "    <div class=\"colab-df-buttons\">\n",
              "\n",
              "  <div class=\"colab-df-container\">\n",
              "    <button class=\"colab-df-convert\" onclick=\"convertToInteractive('df-f24986c8-3468-4254-a885-663eb7a8bd14')\"\n",
              "            title=\"Convert this dataframe to an interactive table.\"\n",
              "            style=\"display:none;\">\n",
              "\n",
              "  <svg xmlns=\"http://www.w3.org/2000/svg\" height=\"24px\" viewBox=\"0 -960 960 960\">\n",
              "    <path d=\"M120-120v-720h720v720H120Zm60-500h600v-160H180v160Zm220 220h160v-160H400v160Zm0 220h160v-160H400v160ZM180-400h160v-160H180v160Zm440 0h160v-160H620v160ZM180-180h160v-160H180v160Zm440 0h160v-160H620v160Z\"/>\n",
              "  </svg>\n",
              "    </button>\n",
              "\n",
              "  <style>\n",
              "    .colab-df-container {\n",
              "      display:flex;\n",
              "      gap: 12px;\n",
              "    }\n",
              "\n",
              "    .colab-df-convert {\n",
              "      background-color: #E8F0FE;\n",
              "      border: none;\n",
              "      border-radius: 50%;\n",
              "      cursor: pointer;\n",
              "      display: none;\n",
              "      fill: #1967D2;\n",
              "      height: 32px;\n",
              "      padding: 0 0 0 0;\n",
              "      width: 32px;\n",
              "    }\n",
              "\n",
              "    .colab-df-convert:hover {\n",
              "      background-color: #E2EBFA;\n",
              "      box-shadow: 0px 1px 2px rgba(60, 64, 67, 0.3), 0px 1px 3px 1px rgba(60, 64, 67, 0.15);\n",
              "      fill: #174EA6;\n",
              "    }\n",
              "\n",
              "    .colab-df-buttons div {\n",
              "      margin-bottom: 4px;\n",
              "    }\n",
              "\n",
              "    [theme=dark] .colab-df-convert {\n",
              "      background-color: #3B4455;\n",
              "      fill: #D2E3FC;\n",
              "    }\n",
              "\n",
              "    [theme=dark] .colab-df-convert:hover {\n",
              "      background-color: #434B5C;\n",
              "      box-shadow: 0px 1px 3px 1px rgba(0, 0, 0, 0.15);\n",
              "      filter: drop-shadow(0px 1px 2px rgba(0, 0, 0, 0.3));\n",
              "      fill: #FFFFFF;\n",
              "    }\n",
              "  </style>\n",
              "\n",
              "    <script>\n",
              "      const buttonEl =\n",
              "        document.querySelector('#df-f24986c8-3468-4254-a885-663eb7a8bd14 button.colab-df-convert');\n",
              "      buttonEl.style.display =\n",
              "        google.colab.kernel.accessAllowed ? 'block' : 'none';\n",
              "\n",
              "      async function convertToInteractive(key) {\n",
              "        const element = document.querySelector('#df-f24986c8-3468-4254-a885-663eb7a8bd14');\n",
              "        const dataTable =\n",
              "          await google.colab.kernel.invokeFunction('convertToInteractive',\n",
              "                                                    [key], {});\n",
              "        if (!dataTable) return;\n",
              "\n",
              "        const docLinkHtml = 'Like what you see? Visit the ' +\n",
              "          '<a target=\"_blank\" href=https://colab.research.google.com/notebooks/data_table.ipynb>data table notebook</a>'\n",
              "          + ' to learn more about interactive tables.';\n",
              "        element.innerHTML = '';\n",
              "        dataTable['output_type'] = 'display_data';\n",
              "        await google.colab.output.renderOutput(dataTable, element);\n",
              "        const docLink = document.createElement('div');\n",
              "        docLink.innerHTML = docLinkHtml;\n",
              "        element.appendChild(docLink);\n",
              "      }\n",
              "    </script>\n",
              "  </div>\n",
              "\n",
              "\n",
              "    <div id=\"df-b7ace97b-311e-41ed-892a-666d538acafa\">\n",
              "      <button class=\"colab-df-quickchart\" onclick=\"quickchart('df-b7ace97b-311e-41ed-892a-666d538acafa')\"\n",
              "                title=\"Suggest charts\"\n",
              "                style=\"display:none;\">\n",
              "\n",
              "<svg xmlns=\"http://www.w3.org/2000/svg\" height=\"24px\"viewBox=\"0 0 24 24\"\n",
              "     width=\"24px\">\n",
              "    <g>\n",
              "        <path d=\"M19 3H5c-1.1 0-2 .9-2 2v14c0 1.1.9 2 2 2h14c1.1 0 2-.9 2-2V5c0-1.1-.9-2-2-2zM9 17H7v-7h2v7zm4 0h-2V7h2v10zm4 0h-2v-4h2v4z\"/>\n",
              "    </g>\n",
              "</svg>\n",
              "      </button>\n",
              "\n",
              "<style>\n",
              "  .colab-df-quickchart {\n",
              "      --bg-color: #E8F0FE;\n",
              "      --fill-color: #1967D2;\n",
              "      --hover-bg-color: #E2EBFA;\n",
              "      --hover-fill-color: #174EA6;\n",
              "      --disabled-fill-color: #AAA;\n",
              "      --disabled-bg-color: #DDD;\n",
              "  }\n",
              "\n",
              "  [theme=dark] .colab-df-quickchart {\n",
              "      --bg-color: #3B4455;\n",
              "      --fill-color: #D2E3FC;\n",
              "      --hover-bg-color: #434B5C;\n",
              "      --hover-fill-color: #FFFFFF;\n",
              "      --disabled-bg-color: #3B4455;\n",
              "      --disabled-fill-color: #666;\n",
              "  }\n",
              "\n",
              "  .colab-df-quickchart {\n",
              "    background-color: var(--bg-color);\n",
              "    border: none;\n",
              "    border-radius: 50%;\n",
              "    cursor: pointer;\n",
              "    display: none;\n",
              "    fill: var(--fill-color);\n",
              "    height: 32px;\n",
              "    padding: 0;\n",
              "    width: 32px;\n",
              "  }\n",
              "\n",
              "  .colab-df-quickchart:hover {\n",
              "    background-color: var(--hover-bg-color);\n",
              "    box-shadow: 0 1px 2px rgba(60, 64, 67, 0.3), 0 1px 3px 1px rgba(60, 64, 67, 0.15);\n",
              "    fill: var(--button-hover-fill-color);\n",
              "  }\n",
              "\n",
              "  .colab-df-quickchart-complete:disabled,\n",
              "  .colab-df-quickchart-complete:disabled:hover {\n",
              "    background-color: var(--disabled-bg-color);\n",
              "    fill: var(--disabled-fill-color);\n",
              "    box-shadow: none;\n",
              "  }\n",
              "\n",
              "  .colab-df-spinner {\n",
              "    border: 2px solid var(--fill-color);\n",
              "    border-color: transparent;\n",
              "    border-bottom-color: var(--fill-color);\n",
              "    animation:\n",
              "      spin 1s steps(1) infinite;\n",
              "  }\n",
              "\n",
              "  @keyframes spin {\n",
              "    0% {\n",
              "      border-color: transparent;\n",
              "      border-bottom-color: var(--fill-color);\n",
              "      border-left-color: var(--fill-color);\n",
              "    }\n",
              "    20% {\n",
              "      border-color: transparent;\n",
              "      border-left-color: var(--fill-color);\n",
              "      border-top-color: var(--fill-color);\n",
              "    }\n",
              "    30% {\n",
              "      border-color: transparent;\n",
              "      border-left-color: var(--fill-color);\n",
              "      border-top-color: var(--fill-color);\n",
              "      border-right-color: var(--fill-color);\n",
              "    }\n",
              "    40% {\n",
              "      border-color: transparent;\n",
              "      border-right-color: var(--fill-color);\n",
              "      border-top-color: var(--fill-color);\n",
              "    }\n",
              "    60% {\n",
              "      border-color: transparent;\n",
              "      border-right-color: var(--fill-color);\n",
              "    }\n",
              "    80% {\n",
              "      border-color: transparent;\n",
              "      border-right-color: var(--fill-color);\n",
              "      border-bottom-color: var(--fill-color);\n",
              "    }\n",
              "    90% {\n",
              "      border-color: transparent;\n",
              "      border-bottom-color: var(--fill-color);\n",
              "    }\n",
              "  }\n",
              "</style>\n",
              "\n",
              "      <script>\n",
              "        async function quickchart(key) {\n",
              "          const quickchartButtonEl =\n",
              "            document.querySelector('#' + key + ' button');\n",
              "          quickchartButtonEl.disabled = true;  // To prevent multiple clicks.\n",
              "          quickchartButtonEl.classList.add('colab-df-spinner');\n",
              "          try {\n",
              "            const charts = await google.colab.kernel.invokeFunction(\n",
              "                'suggestCharts', [key], {});\n",
              "          } catch (error) {\n",
              "            console.error('Error during call to suggestCharts:', error);\n",
              "          }\n",
              "          quickchartButtonEl.classList.remove('colab-df-spinner');\n",
              "          quickchartButtonEl.classList.add('colab-df-quickchart-complete');\n",
              "        }\n",
              "        (() => {\n",
              "          let quickchartButtonEl =\n",
              "            document.querySelector('#df-b7ace97b-311e-41ed-892a-666d538acafa button');\n",
              "          quickchartButtonEl.style.display =\n",
              "            google.colab.kernel.accessAllowed ? 'block' : 'none';\n",
              "        })();\n",
              "      </script>\n",
              "    </div>\n",
              "\n",
              "    </div>\n",
              "  </div>\n"
            ],
            "application/vnd.google.colaboratory.intrinsic+json": {
              "type": "dataframe",
              "summary": "{\n  \"name\": \"products[products['product_name']\",\n  \"rows\": 2,\n  \"fields\": [\n    {\n      \"column\": \"product_id\",\n      \"properties\": {\n        \"dtype\": \"number\",\n        \"std\": 19197,\n        \"min\": 22541,\n        \"max\": 49690,\n        \"num_unique_values\": 2,\n        \"samples\": [\n          49690,\n          22541\n        ],\n        \"semantic_type\": \"\",\n        \"description\": \"\"\n      }\n    },\n    {\n      \"column\": \"product_name\",\n      \"properties\": {\n        \"dtype\": \"string\",\n        \"num_unique_values\": 2,\n        \"samples\": [\n          \"HIGH PERFORMANCE ENERGY DRINK\",\n          \"High Performance Energy Drink\"\n        ],\n        \"semantic_type\": \"\",\n        \"description\": \"\"\n      }\n    },\n    {\n      \"column\": \"aisle_id\",\n      \"properties\": {\n        \"dtype\": \"number\",\n        \"std\": 0,\n        \"min\": 64,\n        \"max\": 64,\n        \"num_unique_values\": 1,\n        \"samples\": [\n          64\n        ],\n        \"semantic_type\": \"\",\n        \"description\": \"\"\n      }\n    },\n    {\n      \"column\": \"department_id\",\n      \"properties\": {\n        \"dtype\": \"number\",\n        \"std\": 0,\n        \"min\": 7,\n        \"max\": 7,\n        \"num_unique_values\": 1,\n        \"samples\": [\n          7\n        ],\n        \"semantic_type\": \"\",\n        \"description\": \"\"\n      }\n    }\n  ]\n}"
            }
          },
          "metadata": {},
          "execution_count": 21
        }
      ]
    },
    {
      "cell_type": "code",
      "source": [
        "# Dropping duplicated product names (case insensitive)\n",
        "# Creating a new column that stores the lowercase version of the product_name\n",
        "products['product_name_lower'] = products['product_name'].str.lower()\n",
        "\n",
        "# Testing purposes\n",
        "print(products['product_name_lower'])\n",
        "\n",
        "# I created a new column that stores all of the product_names in lowercase\n",
        "# I will drop them as there will be multiple of the same values.\n",
        "products = products.drop_duplicates(subset = 'product_name_lower')\n",
        "\n",
        "# I will drop the new column as well since it isn't necessary anymore\n",
        "products = products.drop(columns = 'product_name_lower')\n",
        "\n",
        "# Checking if there isn't anymore duplicates\n",
        "print(f\"\\nThere are {products['product_name'].str.lower().duplicated().sum()} duplicated values.\")"
      ],
      "metadata": {
        "colab": {
          "base_uri": "https://localhost:8080/"
        },
        "id": "IqZ10kszkamw",
        "outputId": "20ab4451-8a54-4b1f-db4a-efddb27314c2"
      },
      "execution_count": 24,
      "outputs": [
        {
          "output_type": "stream",
          "name": "stdout",
          "text": [
            "0                               chocolate sandwich cookies\n",
            "1                                         all-seasons salt\n",
            "2                     robust golden unsweetened oolong tea\n",
            "3        smart ones classic favorites mini rigatoni wit...\n",
            "4                                green chile anytime sauce\n",
            "                               ...                        \n",
            "49683            vodka- triple distilled- twist of vanilla\n",
            "49684                   en croute roast hazelnut cranberry\n",
            "49685                                     artisan baguette\n",
            "49686           smartblend healthy metabolism dry cat food\n",
            "49687                               fresh foaming cleanser\n",
            "Name: product_name_lower, Length: 48333, dtype: object\n",
            "\n",
            "There are 0 duplicated values.\n"
          ]
        }
      ]
    },
    {
      "cell_type": "markdown",
      "source": [
        "## Extras"
      ],
      "metadata": {
        "id": "awlM0PtEnneH"
      }
    },
    {
      "cell_type": "markdown",
      "source": [
        "### 1. Verifying that the **'order_hour_of_day'** and **'order_dow'** values in the **orders** table are sensible (i.e. **'order_hour_of_day'** ranges from 0 to 23 and **'order_dow'** ranges from 0 to 6)"
      ],
      "metadata": {
        "id": "PNtUVMZj7tZ4"
      }
    },
    {
      "cell_type": "code",
      "source": [
        "# Checking the order_hour_of_day unique values after being sorted\n",
        "print(sorted(orders['order_hour_of_day'].unique()))\n",
        "\n",
        "# Checking the order_dow unique values after being sorted\n",
        "print(sorted(orders['order_dow'].unique()))"
      ],
      "metadata": {
        "colab": {
          "base_uri": "https://localhost:8080/"
        },
        "id": "KKM-CU0Xoep-",
        "outputId": "85fd8bca-10d6-4bd8-f618-21132199bfaf"
      },
      "execution_count": 26,
      "outputs": [
        {
          "output_type": "stream",
          "name": "stdout",
          "text": [
            "[np.int64(0), np.int64(1), np.int64(2), np.int64(3), np.int64(4), np.int64(5), np.int64(6), np.int64(7), np.int64(8), np.int64(9), np.int64(10), np.int64(11), np.int64(12), np.int64(13), np.int64(14), np.int64(15), np.int64(16), np.int64(17), np.int64(18), np.int64(19), np.int64(20), np.int64(21), np.int64(22), np.int64(23)]\n",
            "[np.int64(0), np.int64(1), np.int64(2), np.int64(3), np.int64(4), np.int64(5), np.int64(6)]\n"
          ]
        }
      ]
    },
    {
      "cell_type": "markdown",
      "source": [
        "### 2. What time of day do people shop for groceries?"
      ],
      "metadata": {
        "id": "ykjmGUD1o8kB"
      }
    },
    {
      "cell_type": "code",
      "source": [
        "# Looking at the number of orders based on the hour of day\n",
        "orders_placed_by_hour = orders['order_hour_of_day'].value_counts().sort_index()\n",
        "print(orders_placed_by_hour)\n",
        "\n",
        "# Creating a visual representation of the number of order placed by the hour\n",
        "orders_placed_by_hour.plot(kind='bar',\n",
        "                           title='Number of Orders Placed by Hour of Day',\n",
        "                           xlabel = 'Hour of Day',\n",
        "                           ylabel = 'Number of Orders',\n",
        "                           rot = 0)\n",
        "plt.show()"
      ],
      "metadata": {
        "colab": {
          "base_uri": "https://localhost:8080/",
          "height": 950
        },
        "id": "wmMzTbvrpBFz",
        "outputId": "f543e520-4256-4945-eb4e-904379de577a"
      },
      "execution_count": 33,
      "outputs": [
        {
          "output_type": "stream",
          "name": "stdout",
          "text": [
            "order_hour_of_day\n",
            "0      3180\n",
            "1      1763\n",
            "2       989\n",
            "3       770\n",
            "4       765\n",
            "5      1371\n",
            "6      4215\n",
            "7     13043\n",
            "8     25024\n",
            "9     35896\n",
            "10    40578\n",
            "11    40032\n",
            "12    38034\n",
            "13    39007\n",
            "14    39631\n",
            "15    39789\n",
            "16    38112\n",
            "17    31930\n",
            "18    25510\n",
            "19    19547\n",
            "20    14624\n",
            "21    11019\n",
            "22     8512\n",
            "23     5611\n",
            "Name: count, dtype: int64\n"
          ]
        },
        {
          "output_type": "display_data",
          "data": {
            "text/plain": [
              "<Figure size 640x480 with 1 Axes>"
            ],
            "image/png": "[encoded data removed]"
          },
          "metadata": {}
        }
      ]
    },
    {
      "cell_type": "markdown",
      "source": [
        "Most orders occur between 9:00 AM and 5:00 PM, with peaks at 10:00 AM - 11:00 AM and 3:00 PM."
      ],
      "metadata": {
        "id": "OMPZ-zAbp4Gf"
      }
    },
    {
      "cell_type": "markdown",
      "source": [
        "### 3. What day of the week do people shop for groceries?"
      ],
      "metadata": {
        "id": "sv1lQbD1qGsA"
      }
    },
    {
      "cell_type": "code",
      "source": [
        "# Looking at the number of orders based on the day of the week\n",
        "orders_placed_by_dow = orders['order_dow'].value_counts().sort_index()\n",
        "print(orders_placed_by_dow)\n",
        "\n",
        "# Creating a visual representation of the number of orders placed by the day of the week\n",
        "orders_placed_by_dow.plot(kind = 'bar',\n",
        "                          title = 'Number of Orders Placed by Day of Week',\n",
        "                          xlabel = 'Day of Week',\n",
        "                          ylabel = 'Number of Orders',\n",
        "                          rot = 0)\n",
        "plt.show()"
      ],
      "metadata": {
        "colab": {
          "base_uri": "https://localhost:8080/",
          "height": 637
        },
        "id": "cjg0Sj_TqE7c",
        "outputId": "9b13594d-6252-4a4a-d39e-034f3a45fc0c"
      },
      "execution_count": 35,
      "outputs": [
        {
          "output_type": "stream",
          "name": "stdout",
          "text": [
            "order_dow\n",
            "0    84090\n",
            "1    82185\n",
            "2    65833\n",
            "3    60897\n",
            "4    59810\n",
            "5    63488\n",
            "6    62649\n",
            "Name: count, dtype: int64\n"
          ]
        },
        {
          "output_type": "display_data",
          "data": {
            "text/plain": [
              "<Figure size 640x480 with 1 Axes>"
            ],
            "image/png": "[encoded data removed]"
          },
          "metadata": {}
        }
      ]
    },
    {
      "cell_type": "markdown",
      "source": [
        "The data dictionary does not state which integer corresponds to which day of the week. Assuming Sunday = 0, then people place more orders at the beginning of the week (Sunday and Monday)."
      ],
      "metadata": {
        "id": "SK0rYsBwqgTf"
      }
    },
    {
      "cell_type": "markdown",
      "source": [
        "### 4. How long do people wait until placing another order?"
      ],
      "metadata": {
        "id": "F2XkIryGq4Ql"
      }
    },
    {
      "cell_type": "code",
      "source": [
        "# Looking at the number of days before someone orders another product\n",
        "wait_time = orders['days_since_prior_order'].value_counts().sort_index()\n",
        "print(wait_time)\n",
        "\n",
        "# Creating a visual representation of the number of days before someone orders another product\n",
        "wait_time.plot(kind = 'bar',\n",
        "               title = 'Number of Days Before Placing Another Order',\n",
        "               xlabel = 'Number of Days',\n",
        "               ylabel = 'Number of Orders',\n",
        "               rot = 75)\n",
        "plt.show()\n",
        "\n",
        "# Some more analysis\n",
        "avg_days = wait_time.mean()\n",
        "median_days = wait_time.median()\n",
        "print(f\"The order frequency shows a notable spike at 7 days ({wait_time[7]} orders).\")\n",
        "print(f\"The average number of days before placing another order is {avg_days:.2f}.\")\n",
        "print(f\"The median number of days before placing another order is {median_days}.\")"
      ],
      "metadata": {
        "colab": {
          "base_uri": "https://localhost:8080/",
          "height": 1000
        },
        "id": "icy80dWjq2ZF",
        "outputId": "78638a73-7020-4b29-f64e-6361a2415849"
      },
      "execution_count": 39,
      "outputs": [
        {
          "output_type": "stream",
          "name": "stdout",
          "text": [
            "days_since_prior_order\n",
            "0.0      9589\n",
            "1.0     20179\n",
            "2.0     27138\n",
            "3.0     30224\n",
            "4.0     31006\n",
            "5.0     30096\n",
            "6.0     33930\n",
            "7.0     44577\n",
            "8.0     25361\n",
            "9.0     16753\n",
            "10.0    13309\n",
            "11.0    11467\n",
            "12.0    10658\n",
            "13.0    11737\n",
            "14.0    13992\n",
            "15.0     9416\n",
            "16.0     6587\n",
            "17.0     5498\n",
            "18.0     4971\n",
            "19.0     4939\n",
            "20.0     5302\n",
            "21.0     6448\n",
            "22.0     4514\n",
            "23.0     3337\n",
            "24.0     3015\n",
            "25.0     2711\n",
            "26.0     2640\n",
            "27.0     2986\n",
            "28.0     3745\n",
            "29.0     2673\n",
            "30.0    51337\n",
            "Name: count, dtype: int64\n"
          ]
        },
        {
          "output_type": "display_data",
          "data": {
            "text/plain": [
              "<Figure size 640x480 with 1 Axes>"
            ],
            "image/png": "[encoded data removed]"
          },
          "metadata": {}
        },
        {
          "output_type": "stream",
          "name": "stdout",
          "text": [
            "The order frequency shows a notable spike at 7 days (44577 orders).\n",
            "The average number of days before placing another order is 14520.48.\n",
            "The median number of days before placing another order is 9589.0.\n"
          ]
        }
      ]
    },
    {
      "cell_type": "markdown",
      "source": [
        "The 0 values probably correspond to customers who placed more than one order in the same day.\n",
        "\n",
        "The max value of 30 days and the high spike at that value is puzzling though. The spike might be explained by people who set up recurring subscriptions to automatically order once a month. But that doesn't explain why there are no values above 30 days. I would expect many customers to place orders less often than once a month. Maybe those customers were intentionally excluded from the dataset.\n",
        "\n",
        "Disregarding the spike at 30 days, most people wait between 2 to 10 days in between orders. The most common wait time is 7 days. In other words, it's common for people to place weekly grocery orders. Interstingly, in the tail of the distribution we also see small spikes at 14, 21, and 28 days. These would correspond to orders every 2, 3, or 4 weeks."
      ],
      "metadata": {
        "id": "I3pGTVPCsJQ5"
      }
    },
    {
      "cell_type": "markdown",
      "source": [
        "### 5. Is there a difference in **'order_hour_of_day'** distributions on Wednesdays and Saturdays?"
      ],
      "metadata": {
        "id": "LbKN-gBKtEAI"
      }
    },
    {
      "cell_type": "code",
      "source": [
        "# Creating a mask for both of the days\n",
        "wed_mask = orders['order_dow'] == 3\n",
        "sat_mask = orders['order_dow'] == 6\n",
        "\n",
        "# Creating another DataFrame containing only the specified days\n",
        "wednesday_orders = orders[wed_mask]\n",
        "saturday_orders = orders[sat_mask]\n",
        "\n",
        "# Counting only the number of orders based on the hour\n",
        "wed_order_hours = wednesday_orders['order_hour_of_day'].value_counts().sort_index()\n",
        "sat_order_hours = saturday_orders['order_hour_of_day'].value_counts().sort_index()\n",
        "\n",
        "# Testing purposes\n",
        "print(wed_order_hours)\n",
        "print(sat_order_hours)"
      ],
      "metadata": {
        "colab": {
          "base_uri": "https://localhost:8080/"
        },
        "id": "ZPtYLCkYtAfX",
        "outputId": "ceac67a5-1028-4ef5-c1c3-eba19e39e1d5"
      },
      "execution_count": 40,
      "outputs": [
        {
          "output_type": "stream",
          "name": "stdout",
          "text": [
            "order_hour_of_day\n",
            "0      373\n",
            "1      215\n",
            "2      106\n",
            "3      101\n",
            "4      108\n",
            "5      170\n",
            "6      643\n",
            "7     1732\n",
            "8     3125\n",
            "9     4490\n",
            "10    5026\n",
            "11    5004\n",
            "12    4688\n",
            "13    4674\n",
            "14    4774\n",
            "15    5163\n",
            "16    4976\n",
            "17    4175\n",
            "18    3463\n",
            "19    2652\n",
            "20    1917\n",
            "21    1450\n",
            "22    1154\n",
            "23     718\n",
            "Name: count, dtype: int64\n",
            "order_hour_of_day\n",
            "0      464\n",
            "1      254\n",
            "2      177\n",
            "3      125\n",
            "4      118\n",
            "5      161\n",
            "6      451\n",
            "7     1619\n",
            "8     3246\n",
            "9     4311\n",
            "10    4919\n",
            "11    5116\n",
            "12    5132\n",
            "13    5323\n",
            "14    5375\n",
            "15    5188\n",
            "16    5029\n",
            "17    4295\n",
            "18    3338\n",
            "19    2610\n",
            "20    1847\n",
            "21    1473\n",
            "22    1185\n",
            "23     893\n",
            "Name: count, dtype: int64\n"
          ]
        }
      ]
    },
    {
      "cell_type": "code",
      "source": [
        "# Combining the two days\n",
        "wed_sat_comparison = pd.concat([wed_order_hours, sat_order_hours], axis = 'columns')\n",
        "wed_sat_comparison.columns = ['Wednesday', 'Saturday']  # Naming the columns\n",
        "\n",
        "# Testing Purposes\n",
        "print(wed_sat_comparison)"
      ],
      "metadata": {
        "colab": {
          "base_uri": "https://localhost:8080/"
        },
        "id": "36A0_j1rvlSO",
        "outputId": "99620ee6-ea5e-4c3e-ccc4-adf7f7ade9e0"
      },
      "execution_count": 41,
      "outputs": [
        {
          "output_type": "stream",
          "name": "stdout",
          "text": [
            "                   Wednesday  Saturday\n",
            "order_hour_of_day                     \n",
            "0                        373       464\n",
            "1                        215       254\n",
            "2                        106       177\n",
            "3                        101       125\n",
            "4                        108       118\n",
            "5                        170       161\n",
            "6                        643       451\n",
            "7                       1732      1619\n",
            "8                       3125      3246\n",
            "9                       4490      4311\n",
            "10                      5026      4919\n",
            "11                      5004      5116\n",
            "12                      4688      5132\n",
            "13                      4674      5323\n",
            "14                      4774      5375\n",
            "15                      5163      5188\n",
            "16                      4976      5029\n",
            "17                      4175      4295\n",
            "18                      3463      3338\n",
            "19                      2652      2610\n",
            "20                      1917      1847\n",
            "21                      1450      1473\n",
            "22                      1154      1185\n",
            "23                       718       893\n"
          ]
        }
      ]
    },
    {
      "cell_type": "code",
      "source": [
        "# Creating a barchart\n",
        "wed_sat_comparison.plot(kind = 'bar',\n",
        "                        title = 'Distribution of Orders by Hour of Day on Wednesdays and Saturdays',\n",
        "                        xlabel = 'Hour of Day',\n",
        "                        ylabel = 'Number of Orders',\n",
        "                        rot = 0)\n",
        "plt.show()"
      ],
      "metadata": {
        "colab": {
          "base_uri": "https://localhost:8080/",
          "height": 472
        },
        "id": "J_uuXzAXxy0G",
        "outputId": "8c6e4b62-d64a-413f-abc5-b040013f270e"
      },
      "execution_count": 42,
      "outputs": [
        {
          "output_type": "display_data",
          "data": {
            "text/plain": [
              "<Figure size 640x480 with 1 Axes>"
            ],
            "image/png": "[encoded data removed]"
          },
          "metadata": {}
        }
      ]
    },
    {
      "cell_type": "markdown",
      "source": [
        "There's a small dip from 11h to 13h on Wednesdays. This dip is absent on Saturdays. Maybe this dip can be attributed to people who don't use Instacart because they have lunch somehwere between 11h and 13h."
      ],
      "metadata": {
        "id": "8ZIeAbrTyGJY"
      }
    },
    {
      "cell_type": "markdown",
      "source": [
        "### 6. What's the distribution for the number of orders per customer?"
      ],
      "metadata": {
        "id": "1tSc7bW1ypEd"
      }
    },
    {
      "cell_type": "code",
      "source": [
        "# Grouping the data by user_id\n",
        "orders_placed_by_users = orders.groupby('user_id')['order_id'].count()\n",
        "\n",
        "# Sorting the results for better readability\n",
        "sorted_orders_placed_by_users = orders_placed_by_users.sort_values()\n",
        "\n",
        "# Testing purposes\n",
        "print(sorted_orders_placed_by_users)"
      ],
      "metadata": {
        "colab": {
          "base_uri": "https://localhost:8080/"
        },
        "id": "JGPadZ9oyDNT",
        "outputId": "07a46046-8cf2-4350-eba2-84531c82299a"
      },
      "execution_count": 43,
      "outputs": [
        {
          "output_type": "stream",
          "name": "stdout",
          "text": [
            "user_id\n",
            "72650      1\n",
            "72647      1\n",
            "72646      1\n",
            "72640      1\n",
            "72637      1\n",
            "          ..\n",
            "134511    24\n",
            "148162    24\n",
            "78375     25\n",
            "193164    26\n",
            "149605    28\n",
            "Name: order_id, Length: 157437, dtype: int64\n"
          ]
        }
      ]
    },
    {
      "cell_type": "code",
      "source": [
        "# Creating a histogram to show the distribution\n",
        "sorted_orders_placed_by_users.plot(kind = 'hist',\n",
        "                                   bins = 5,\n",
        "                                   title = 'Number of Orders per Customer',\n",
        "                                   xlabel = 'Number of Orders',\n",
        "                                   ylabel = 'Number of Customers')\n",
        "\n",
        "# Creating a mean line to my histogram\n",
        "mean_value = sorted_orders_placed_by_users.mean()\n",
        "plt.axvline(mean_value, color = 'red', linestyle = 'dashed', linewidth = 2)\n",
        "plt.show()"
      ],
      "metadata": {
        "colab": {
          "base_uri": "https://localhost:8080/",
          "height": 472
        },
        "id": "w1grB4GXzJY3",
        "outputId": "d12ffae5-2623-453c-8e06-16d768b4d7ed"
      },
      "execution_count": 49,
      "outputs": [
        {
          "output_type": "display_data",
          "data": {
            "text/plain": [
              "<Figure size 640x480 with 1 Axes>"
            ],
            "image/png": "[encoded data removed]"
          },
          "metadata": {}
        }
      ]
    },
    {
      "cell_type": "markdown",
      "source": [
        "### 7. What are the top 20 popular products (display their id and name)?"
      ],
      "metadata": {
        "id": "BP7nMf1I0mjt"
      }
    },
    {
      "cell_type": "code",
      "source": [
        "# Merging the datasets on product_id\n",
        "order_products_and_products = order_products.merge(products, on = 'product_id')\n",
        "\n",
        "# Grouping by product_id and product_name\n",
        "product_name_and_product_id = order_products_and_products.groupby(['product_id', 'product_name']).size()\n",
        "print(product_name_and_product_id)"
      ],
      "metadata": {
        "colab": {
          "base_uri": "https://localhost:8080/"
        },
        "id": "wJHBgd_y0IwZ",
        "outputId": "086de29a-6f2a-4652-e1e1-4628feb7774c"
      },
      "execution_count": 50,
      "outputs": [
        {
          "output_type": "stream",
          "name": "stdout",
          "text": [
            "product_id  product_name                                                     \n",
            "1           Chocolate Sandwich Cookies                                           280\n",
            "2           All-Seasons Salt                                                      11\n",
            "3           Robust Golden Unsweetened Oolong Tea                                  42\n",
            "4           Smart Ones Classic Favorites Mini Rigatoni With Vodka Cream Sauce     49\n",
            "7           Pure Coconut Water With Orange                                         2\n",
            "                                                                                ... \n",
            "49684       Vodka- Triple Distilled- Twist of Vanilla                              1\n",
            "49685       En Croute Roast Hazelnut Cranberry                                     2\n",
            "49686       Artisan Baguette                                                      24\n",
            "49687       Smartblend Healthy Metabolism Dry Cat Food                             1\n",
            "49688       Fresh Foaming Cleanser                                                 9\n",
            "Length: 44516, dtype: int64\n"
          ]
        }
      ]
    },
    {
      "cell_type": "code",
      "source": [
        "# Sorting the results\n",
        "sort_products = product_name_and_product_id.sort_values(ascending = False)\n",
        "print(sort_products)\n",
        "\n",
        "# Displaying the top 20\n",
        "top_20 = sort_products.head(20)\n",
        "print(top_20)"
      ],
      "metadata": {
        "colab": {
          "base_uri": "https://localhost:8080/"
        },
        "id": "erwcYLn81QGF",
        "outputId": "e5fc97cc-bfb9-4ff8-c640-df997a7638d5"
      },
      "execution_count": 52,
      "outputs": [
        {
          "output_type": "stream",
          "name": "stdout",
          "text": [
            "product_id  product_name                                        \n",
            "24852       Banana                                                  66050\n",
            "13176       Bag of Organic Bananas                                  53297\n",
            "21137       Organic Strawberries                                    37039\n",
            "21903       Organic Baby Spinach                                    33971\n",
            "47209       Organic Hass Avocado                                    29773\n",
            "                                                                    ...  \n",
            "49636       Vegetable & Chicken Dumpling                                1\n",
            "49631       B-Complex 100 Stress Formula                                1\n",
            "49657       Cabernet Tomatoes                                           1\n",
            "49654       Teriyaki Sauce- Sesame- Original                            1\n",
            "49650       California Style White Hand-Tossed Style Crust Pizza        1\n",
            "Length: 44516, dtype: int64\n",
            "product_id  product_name            \n",
            "24852       Banana                      66050\n",
            "13176       Bag of Organic Bananas      53297\n",
            "21137       Organic Strawberries        37039\n",
            "21903       Organic Baby Spinach        33971\n",
            "47209       Organic Hass Avocado        29773\n",
            "47766       Organic Avocado             24689\n",
            "47626       Large Lemon                 21495\n",
            "16797       Strawberries                20018\n",
            "26209       Limes                       19690\n",
            "27845       Organic Whole Milk          19600\n",
            "27966       Organic Raspberries         19197\n",
            "22935       Organic Yellow Onion        15898\n",
            "24964       Organic Garlic              15292\n",
            "45007       Organic Zucchini            14584\n",
            "39275       Organic Blueberries         13879\n",
            "49683       Cucumber Kirby              13675\n",
            "28204       Organic Fuji Apple          12544\n",
            "5876        Organic Lemon               12232\n",
            "8277        Apple Honeycrisp Organic    11993\n",
            "40706       Organic Grape Tomatoes      11781\n",
            "dtype: int64\n"
          ]
        }
      ]
    },
    {
      "cell_type": "code",
      "source": [
        "# Horizontal Bar chart\n",
        "top_20.plot(kind = 'barh',\n",
        "            title = 'Top 20 Popular Products',\n",
        "            xlabel = 'Product Name',\n",
        "            ylabel = 'Number of Orders',\n",
        "            rot = 0)\n",
        "plt.show()"
      ],
      "metadata": {
        "colab": {
          "base_uri": "https://localhost:8080/",
          "height": 472
        },
        "id": "9AyhqWbf1hWC",
        "outputId": "b983a46a-73e3-4dbc-e758-49c3b106c98b"
      },
      "execution_count": 58,
      "outputs": [
        {
          "output_type": "display_data",
          "data": {
            "text/plain": [
              "<Figure size 640x480 with 1 Axes>"
            ],
            "image/png": "[encoded data removed]"
          },
          "metadata": {}
        }
      ]
    },
    {
      "cell_type": "markdown",
      "source": [
        "The top 20 items are all produce, except for milk. Looks like people want delicious and nutritious!"
      ],
      "metadata": {
        "id": "XGWBwqb81v5Y"
      }
    },
    {
      "cell_type": "markdown",
      "source": [
        "### 8. How many items do people typically buy in one order? What does the distribution look like?"
      ],
      "metadata": {
        "id": "D4dVtOef2eFV"
      }
    },
    {
      "cell_type": "code",
      "source": [
        "# Grouping the data and counting\n",
        "order_and_product_id = order_products.groupby('order_id')['product_id'].count()\n",
        "\n",
        "# Aggregating the counts and sorting them by index\n",
        "order_and_product_id_counts = order_and_product_id.value_counts().sort_index()\n",
        "\n",
        "# Testing purposes\n",
        "print(order_and_product_id_counts)"
      ],
      "metadata": {
        "colab": {
          "base_uri": "https://localhost:8080/"
        },
        "id": "UFI87T0E1tTf",
        "outputId": "03017fd2-96e7-4823-c85d-35d7340ff653"
      },
      "execution_count": 59,
      "outputs": [
        {
          "output_type": "stream",
          "name": "stdout",
          "text": [
            "product_id\n",
            "1      21847\n",
            "2      26292\n",
            "3      29046\n",
            "4      31054\n",
            "5      31923\n",
            "       ...  \n",
            "98         1\n",
            "104        1\n",
            "108        1\n",
            "115        1\n",
            "127        1\n",
            "Name: count, Length: 90, dtype: int64\n"
          ]
        }
      ]
    },
    {
      "cell_type": "code",
      "source": [
        "# barchart\n",
        "order_and_product_id_counts.plot(kind = 'hist',\n",
        "                                title = 'Distribution of Number of Products per Order',\n",
        "                                xlabel = 'Number of Products',\n",
        "                                ylabel = 'Number of Orders',\n",
        "                                bins = 20,\n",
        "                                rot = 0)\n",
        "plt.show()"
      ],
      "metadata": {
        "colab": {
          "base_uri": "https://localhost:8080/",
          "height": 472
        },
        "id": "TqyZfDtc2__f",
        "outputId": "9446def6-5ea1-4db6-c424-0dd7bde0c5cc"
      },
      "execution_count": 85,
      "outputs": [
        {
          "output_type": "display_data",
          "data": {
            "text/plain": [
              "<Figure size 640x480 with 1 Axes>"
            ],
            "image/png": "[encoded data removed]"
          },
          "metadata": {}
        }
      ]
    },
    {
      "cell_type": "markdown",
      "source": [
        "### 9. What are the top 20 items that are reordered most frequently (display thier names and product IDs)?"
      ],
      "metadata": {
        "id": "jvdcOZUs6dRx"
      }
    },
    {
      "cell_type": "code",
      "source": [
        "# Filtering the data\n",
        "filtered_order_products = order_products[order_products['reordered'] == 1]\n",
        "print(filtered_order_products)"
      ],
      "metadata": {
        "colab": {
          "base_uri": "https://localhost:8080/"
        },
        "id": "SwqPcDE33SYc",
        "outputId": "4c3c66b2-d3ca-43ee-c7d3-5b295ad6549e"
      },
      "execution_count": 86,
      "outputs": [
        {
          "output_type": "stream",
          "name": "stdout",
          "text": [
            "         order_id  product_id  add_to_cart_order  reordered\n",
            "1          567889        1560                  1          1\n",
            "2         2261212       26683                  1          1\n",
            "3          491251        8670                 35          1\n",
            "4         2571142        1940                  5          1\n",
            "5         2456893       21616                  4          1\n",
            "...           ...         ...                ...        ...\n",
            "4544999   1622300       24852                  1          1\n",
            "4545000   1125324       40600                  6          1\n",
            "4545002    577211       15290                 12          1\n",
            "4545004    692640       47766                  4          1\n",
            "4545005    319435         691                  8          1\n",
            "\n",
            "[2683838 rows x 4 columns]\n"
          ]
        }
      ]
    },
    {
      "cell_type": "code",
      "source": [
        "# Merging the datasets\n",
        "merge_order_products_and_products = filtered_order_products.merge(products, on = 'product_id')\n",
        "\n",
        "# Grouping by product_id and product_name\n",
        "reordered_product_size = merge_order_products_and_products.groupby(['product_id', 'product_name']).size()\n",
        "\n",
        "# Sorting the result\n",
        "sorted_reordered_product_size = reordered_product_size.sort_values(ascending = False)\n",
        "\n",
        "# Displaying the top 20\n",
        "top_20_reordered_products = sorted_reordered_product_size.head(20)\n",
        "print(top_20_reordered_products)"
      ],
      "metadata": {
        "colab": {
          "base_uri": "https://localhost:8080/"
        },
        "id": "6Sgwwa7V6vNB",
        "outputId": "f9067e89-f280-48cd-f15b-0bd73f5c5d7d"
      },
      "execution_count": 87,
      "outputs": [
        {
          "output_type": "stream",
          "name": "stdout",
          "text": [
            "product_id  product_name            \n",
            "24852       Banana                      55763\n",
            "13176       Bag of Organic Bananas      44450\n",
            "21137       Organic Strawberries        28639\n",
            "21903       Organic Baby Spinach        26233\n",
            "47209       Organic Hass Avocado        23629\n",
            "47766       Organic Avocado             18743\n",
            "27845       Organic Whole Milk          16251\n",
            "47626       Large Lemon                 15044\n",
            "27966       Organic Raspberries         14748\n",
            "16797       Strawberries                13945\n",
            "26209       Limes                       13327\n",
            "22935       Organic Yellow Onion        11145\n",
            "24964       Organic Garlic              10411\n",
            "45007       Organic Zucchini            10076\n",
            "49683       Cucumber Kirby               9538\n",
            "28204       Organic Fuji Apple           8989\n",
            "8277        Apple Honeycrisp Organic     8836\n",
            "39275       Organic Blueberries          8799\n",
            "5876        Organic Lemon                8412\n",
            "49235       Organic Half & Half          8389\n",
            "dtype: int64\n"
          ]
        }
      ]
    },
    {
      "cell_type": "code",
      "source": [
        "# Barchart\n",
        "top_20_reordered_products.plot(kind = 'barh',\n",
        "                               title = 'Top 20 Reordered Products',\n",
        "                               xlabel = 'Product Name',\n",
        "                               ylabel = 'Number of Reorders',\n",
        "                               rot = 0)\n",
        "plt.show()"
      ],
      "metadata": {
        "colab": {
          "base_uri": "https://localhost:8080/",
          "height": 472
        },
        "id": "Pyq_UfyU7SQF",
        "outputId": "566d15d2-406c-43bd-fda4-865cfb2c2db5"
      },
      "execution_count": 88,
      "outputs": [
        {
          "output_type": "display_data",
          "data": {
            "text/plain": [
              "<Figure size 640x480 with 1 Axes>"
            ],
            "image/png": "[encoded data removed]"
          },
          "metadata": {}
        }
      ]
    },
    {
      "cell_type": "markdown",
      "source": [
        "It looks like produce and dairy comprise the most reordered products as well. It makes sense that preishables would be the most reordered items."
      ],
      "metadata": {
        "id": "jLo275I67bEH"
      }
    }
  ]
}