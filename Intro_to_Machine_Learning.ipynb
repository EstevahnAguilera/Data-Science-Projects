{
  "nbformat": 4,
  "nbformat_minor": 0,
  "metadata": {
    "colab": {
      "provenance": [],
      "authorship_tag": "ABX9TyNbW4bZpIXV5OwZAF5gd0ET",
      "include_colab_link": true
    },
    "kernelspec": {
      "name": "python3",
      "display_name": "Python 3"
    },
    "language_info": {
      "name": "python"
    }
  },
  "cells": [
    {
      "cell_type": "markdown",
      "metadata": {
        "id": "view-in-github",
        "colab_type": "text"
      },
      "source": [
        "<a href=\"https://colab.research.google.com/github/EstevahnAguilera/Data-Science-Projects/blob/main/Intro_to_Machine_Learning.ipynb\" target=\"_parent\"><img src=\"https://colab.research.google.com/assets/colab-badge.svg\" alt=\"Open In Colab\"/></a>"
      ]
    },
    {
      "cell_type": "markdown",
      "source": [
        "# Project Description\n",
        "Mobile carrier Megaline has found out that many of their subscribers use legacy plans. They want to develop a model that would analyze subscribers' behavior and recommend one of Megaline's newer plans: Smart or Ultra.\n",
        "\n",
        "You have access to behavior data about subscribers who have already switched to the new plans (from the project for the Statistical Data Analysis course). For this classification task, you need to develop a model that will pick the right plan. Since you’ve already performed the data preprocessing step, you can move straight to creating the model.  \n",
        "\n",
        "Develop a model with the highest possible accuracy. In this project, the threshold for accuracy is 0.75. Check the accuracy using the test dataset.  "
      ],
      "metadata": {
        "id": "2-NAUHr4f8Df"
      }
    },
    {
      "cell_type": "markdown",
      "source": [
        "## Data Description\n",
        "Every observation in the dataset contains monthly behavior information about one user. The information given is as follows:\n",
        "- calls — number of calls,\n",
        "- minutes — total call duration in minutes,\n",
        "- messages — number of text messages,\n",
        "- mb_used — Internet traffic used in MB,\n",
        "- is_ultra — plan for the current month (Ultra - 1, Smart - 0)."
      ],
      "metadata": {
        "id": "36JUYKlIgOzx"
      }
    },
    {
      "cell_type": "markdown",
      "source": [
        "## Getting Started\n",
        "I will begin by setting up the environment.\n",
        "### Importing Libraries\n",
        "I will import the necessary libraries."
      ],
      "metadata": {
        "id": "DPxcT84Zgiuy"
      }
    },
    {
      "cell_type": "code",
      "source": [
        "# Importing neccesary libraries\n",
        "import pandas as pd\n",
        "from sklearn.model_selection import train_test_split\n",
        "from sklearn.tree import DecisionTreeClassifier\n",
        "from sklearn.ensemble import RandomForestClassifier\n",
        "from sklearn.metrics import accuracy_score"
      ],
      "metadata": {
        "id": "OJ67kLaEgEVw"
      },
      "execution_count": 3,
      "outputs": []
    },
    {
      "cell_type": "code",
      "source": [
        "# Importing the .csv file from local computer\n",
        "from google.colab import files\n",
        "uploaded = files.upload()"
      ],
      "metadata": {
        "colab": {
          "base_uri": "https://localhost:8080/",
          "height": 77
        },
        "id": "zQ4Ij5H4hEsy",
        "outputId": "ef3170b3-5069-4865-e0fb-2cee54dc98d1"
      },
      "execution_count": 1,
      "outputs": [
        {
          "output_type": "display_data",
          "data": {
            "text/plain": [
              "<IPython.core.display.HTML object>"
            ],
            "text/html": [
              "\n",
              "     <input type=\"file\" id=\"files-a94c36db-0aa1-4d24-998a-60746c902666\" name=\"files[]\" multiple disabled\n",
              "        style=\"border:none\" />\n",
              "     <output id=\"result-a94c36db-0aa1-4d24-998a-60746c902666\">\n",
              "      Upload widget is only available when the cell has been executed in the\n",
              "      current browser session. Please rerun this cell to enable.\n",
              "      </output>\n",
              "      <script>// Copyright 2017 Google LLC\n",
              "//\n",
              "// Licensed under the Apache License, Version 2.0 (the \"License\");\n",
              "// you may not use this file except in compliance with the License.\n",
              "// You may obtain a copy of the License at\n",
              "//\n",
              "//      http://www.apache.org/licenses/LICENSE-2.0\n",
              "//\n",
              "// Unless required by applicable law or agreed to in writing, software\n",
              "// distributed under the License is distributed on an \"AS IS\" BASIS,\n",
              "// WITHOUT WARRANTIES OR CONDITIONS OF ANY KIND, either express or implied.\n",
              "// See the License for the specific language governing permissions and\n",
              "// limitations under the License.\n",
              "\n",
              "/**\n",
              " * @fileoverview Helpers for google.colab Python module.\n",
              " */\n",
              "(function(scope) {\n",
              "function span(text, styleAttributes = {}) {\n",
              "  const element = document.createElement('span');\n",
              "  element.textContent = text;\n",
              "  for (const key of Object.keys(styleAttributes)) {\n",
              "    element.style[key] = styleAttributes[key];\n",
              "  }\n",
              "  return element;\n",
              "}\n",
              "\n",
              "// Max number of bytes which will be uploaded at a time.\n",
              "const MAX_PAYLOAD_SIZE = 100 * 1024;\n",
              "\n",
              "function _uploadFiles(inputId, outputId) {\n",
              "  const steps = uploadFilesStep(inputId, outputId);\n",
              "  const outputElement = document.getElementById(outputId);\n",
              "  // Cache steps on the outputElement to make it available for the next call\n",
              "  // to uploadFilesContinue from Python.\n",
              "  outputElement.steps = steps;\n",
              "\n",
              "  return _uploadFilesContinue(outputId);\n",
              "}\n",
              "\n",
              "// This is roughly an async generator (not supported in the browser yet),\n",
              "// where there are multiple asynchronous steps and the Python side is going\n",
              "// to poll for completion of each step.\n",
              "// This uses a Promise to block the python side on completion of each step,\n",
              "// then passes the result of the previous step as the input to the next step.\n",
              "function _uploadFilesContinue(outputId) {\n",
              "  const outputElement = document.getElementById(outputId);\n",
              "  const steps = outputElement.steps;\n",
              "\n",
              "  const next = steps.next(outputElement.lastPromiseValue);\n",
              "  return Promise.resolve(next.value.promise).then((value) => {\n",
              "    // Cache the last promise value to make it available to the next\n",
              "    // step of the generator.\n",
              "    outputElement.lastPromiseValue = value;\n",
              "    return next.value.response;\n",
              "  });\n",
              "}\n",
              "\n",
              "/**\n",
              " * Generator function which is called between each async step of the upload\n",
              " * process.\n",
              " * @param {string} inputId Element ID of the input file picker element.\n",
              " * @param {string} outputId Element ID of the output display.\n",
              " * @return {!Iterable<!Object>} Iterable of next steps.\n",
              " */\n",
              "function* uploadFilesStep(inputId, outputId) {\n",
              "  const inputElement = document.getElementById(inputId);\n",
              "  inputElement.disabled = false;\n",
              "\n",
              "  const outputElement = document.getElementById(outputId);\n",
              "  outputElement.innerHTML = '';\n",
              "\n",
              "  const pickedPromise = new Promise((resolve) => {\n",
              "    inputElement.addEventListener('change', (e) => {\n",
              "      resolve(e.target.files);\n",
              "    });\n",
              "  });\n",
              "\n",
              "  const cancel = document.createElement('button');\n",
              "  inputElement.parentElement.appendChild(cancel);\n",
              "  cancel.textContent = 'Cancel upload';\n",
              "  const cancelPromise = new Promise((resolve) => {\n",
              "    cancel.onclick = () => {\n",
              "      resolve(null);\n",
              "    };\n",
              "  });\n",
              "\n",
              "  // Wait for the user to pick the files.\n",
              "  const files = yield {\n",
              "    promise: Promise.race([pickedPromise, cancelPromise]),\n",
              "    response: {\n",
              "      action: 'starting',\n",
              "    }\n",
              "  };\n",
              "\n",
              "  cancel.remove();\n",
              "\n",
              "  // Disable the input element since further picks are not allowed.\n",
              "  inputElement.disabled = true;\n",
              "\n",
              "  if (!files) {\n",
              "    return {\n",
              "      response: {\n",
              "        action: 'complete',\n",
              "      }\n",
              "    };\n",
              "  }\n",
              "\n",
              "  for (const file of files) {\n",
              "    const li = document.createElement('li');\n",
              "    li.append(span(file.name, {fontWeight: 'bold'}));\n",
              "    li.append(span(\n",
              "        `(${file.type || 'n/a'}) - ${file.size} bytes, ` +\n",
              "        `last modified: ${\n",
              "            file.lastModifiedDate ? file.lastModifiedDate.toLocaleDateString() :\n",
              "                                    'n/a'} - `));\n",
              "    const percent = span('0% done');\n",
              "    li.appendChild(percent);\n",
              "\n",
              "    outputElement.appendChild(li);\n",
              "\n",
              "    const fileDataPromise = new Promise((resolve) => {\n",
              "      const reader = new FileReader();\n",
              "      reader.onload = (e) => {\n",
              "        resolve(e.target.result);\n",
              "      };\n",
              "      reader.readAsArrayBuffer(file);\n",
              "    });\n",
              "    // Wait for the data to be ready.\n",
              "    let fileData = yield {\n",
              "      promise: fileDataPromise,\n",
              "      response: {\n",
              "        action: 'continue',\n",
              "      }\n",
              "    };\n",
              "\n",
              "    // Use a chunked sending to avoid message size limits. See b/62115660.\n",
              "    let position = 0;\n",
              "    do {\n",
              "      const length = Math.min(fileData.byteLength - position, MAX_PAYLOAD_SIZE);\n",
              "      const chunk = new Uint8Array(fileData, position, length);\n",
              "      position += length;\n",
              "\n",
              "      const base64 = btoa(String.fromCharCode.apply(null, chunk));\n",
              "      yield {\n",
              "        response: {\n",
              "          action: 'append',\n",
              "          file: file.name,\n",
              "          data: base64,\n",
              "        },\n",
              "      };\n",
              "\n",
              "      let percentDone = fileData.byteLength === 0 ?\n",
              "          100 :\n",
              "          Math.round((position / fileData.byteLength) * 100);\n",
              "      percent.textContent = `${percentDone}% done`;\n",
              "\n",
              "    } while (position < fileData.byteLength);\n",
              "  }\n",
              "\n",
              "  // All done.\n",
              "  yield {\n",
              "    response: {\n",
              "      action: 'complete',\n",
              "    }\n",
              "  };\n",
              "}\n",
              "\n",
              "scope.google = scope.google || {};\n",
              "scope.google.colab = scope.google.colab || {};\n",
              "scope.google.colab._files = {\n",
              "  _uploadFiles,\n",
              "  _uploadFilesContinue,\n",
              "};\n",
              "})(self);\n",
              "</script> "
            ]
          },
          "metadata": {}
        },
        {
          "output_type": "stream",
          "name": "stdout",
          "text": [
            "Saving users_behavior.csv to users_behavior.csv\n"
          ]
        }
      ]
    },
    {
      "cell_type": "code",
      "source": [
        "# Creating my dataframe\n",
        "df = pd.read_csv('users_behavior.csv')\n",
        "\n",
        "# Analyzing my data\n",
        "print(df.head())\n",
        "print(df.info())"
      ],
      "metadata": {
        "colab": {
          "base_uri": "https://localhost:8080/"
        },
        "id": "s9bgu95Hhi3N",
        "outputId": "eedd0191-a67d-4ce9-bf9a-878c1c59f6b9"
      },
      "execution_count": 5,
      "outputs": [
        {
          "output_type": "stream",
          "name": "stdout",
          "text": [
            "   calls  minutes  messages   mb_used  is_ultra\n",
            "0   40.0   311.90      83.0  19915.42         0\n",
            "1   85.0   516.75      56.0  22696.96         0\n",
            "2   77.0   467.66      86.0  21060.45         0\n",
            "3  106.0   745.53      81.0   8437.39         1\n",
            "4   66.0   418.74       1.0  14502.75         0\n",
            "<class 'pandas.core.frame.DataFrame'>\n",
            "RangeIndex: 3214 entries, 0 to 3213\n",
            "Data columns (total 5 columns):\n",
            " #   Column    Non-Null Count  Dtype  \n",
            "---  ------    --------------  -----  \n",
            " 0   calls     3214 non-null   float64\n",
            " 1   minutes   3214 non-null   float64\n",
            " 2   messages  3214 non-null   float64\n",
            " 3   mb_used   3214 non-null   float64\n",
            " 4   is_ultra  3214 non-null   int64  \n",
            "dtypes: float64(4), int64(1)\n",
            "memory usage: 125.7 KB\n",
            "None\n"
          ]
        }
      ]
    },
    {
      "cell_type": "markdown",
      "source": [
        "My understanding up until this point:\n",
        "- After reading the projects description, I have identified this problem as a categorical one as opposed to a regression one. It's categorical because Magaline is trying to develope a model that would analyze subscribers behavior and then recommend either their Smart or Ultra plan. There isn't any numerical values that we are trying to find, thus it's categorical.\n",
        "- Now that I understand that, I need to set up my features and target that will be necessary to train my model.\n",
        "\n",
        "After analyzing the data:\n",
        "- Upon looking at the DataFrame's information, I notice that there isn't any missing values which is good.\n",
        "- I also notice that all of the columns in this DataFrame are necessary for my model, thus I don't need to drop any aditional columns when specifying my models features."
      ],
      "metadata": {
        "id": "niqWZ0ukgrH5"
      }
    },
    {
      "cell_type": "markdown",
      "source": [
        "### Specifying *features* and *target*\n",
        "The features will be all of the columns except for **'is_ultra'**.\n",
        "The target will be just the **'is_ultra'** column.\n",
        "\n",
        "### Splitting the Data\n",
        "Split, splits the data into two datasets based on a certain percentage. Therefore if we want to split it into three, we would need to do two separate splits.\n",
        "\n",
        "I will be splitting the data into three sets using a common split ratio:\n",
        "- Training set 60%\n",
        "- Validation set 20%\n",
        "- Test set 20%\n",
        "\n",
        "I will be splitting the data as follows:\n",
        "1. The training set will get 60% and a temp set will get 40%.\n",
        "2. On the second split, I will be splitting the temp set in half that way both the validation set and test set get an equal amount (20%)."
      ],
      "metadata": {
        "id": "2_mT-gY9jXIn"
      }
    },
    {
      "cell_type": "code",
      "source": [
        "# features & target\n",
        "features = df.drop(['is_ultra'], axis=1)\n",
        "target = df['is_ultra']"
      ],
      "metadata": {
        "id": "9kerujvShpUM"
      },
      "execution_count": 7,
      "outputs": []
    },
    {
      "cell_type": "code",
      "source": [
        "# First split: Training set gets 60% and temp set gets 40%\n",
        "features_train, features_temp, target_train, target_temp = train_test_split(features, target, test_size=0.4, random_state=12345)\n",
        "\n",
        "# Second split: Divides the 40% into two\n",
        "features_valid, features_test, target_valid, target_test = train_test_split(features_temp, target_temp, test_size=0.5, random_state=12345)"
      ],
      "metadata": {
        "id": "kmGMF49plN8s"
      },
      "execution_count": 8,
      "outputs": []
    },
    {
      "cell_type": "markdown",
      "source": [
        "### Testing how accurate a Decision Tree model would be"
      ],
      "metadata": {
        "id": "5wnF-dm-nS6F"
      }
    },
    {
      "cell_type": "code",
      "source": [
        "# Testing out the DecisionTree\n",
        "best_score_DTC = 0\n",
        "best_depth_DTC = 0\n",
        "for depth in range(1, 6):\n",
        "    model_DTC = DecisionTreeClassifier(random_state=12345, max_depth=depth)\n",
        "    model_DTC.fit(features_train, target_train)\n",
        "    score_DTC = model_DTC.score(features_valid, target_valid)\n",
        "    if score_DTC > best_score_DTC:\n",
        "        best_score_DTC = score_DTC\n",
        "        best_depth_DTC = depth\n",
        "\n",
        "print(\"Accuracy of the best model on the validation set:\")\n",
        "print(f\"Accuracy: {best_score_DTC} and depth: {best_depth_DTC}\")"
      ],
      "metadata": {
        "colab": {
          "base_uri": "https://localhost:8080/"
        },
        "id": "SdsGSpwhmawg",
        "outputId": "69b7ecbd-0b03-4eb2-d764-f6583d544de5"
      },
      "execution_count": 10,
      "outputs": [
        {
          "output_type": "stream",
          "name": "stdout",
          "text": [
            "Accuracy of the best model on the validation set:\n",
            "Accuracy: 0.7853810264385692 and depth: 3\n"
          ]
        }
      ]
    },
    {
      "cell_type": "markdown",
      "source": [
        "### Testing how accurate a Random Forest Classifier model would be"
      ],
      "metadata": {
        "id": "xpv8nrGVoH-U"
      }
    },
    {
      "cell_type": "code",
      "source": [
        "# Testing out the RandomForestClassifier\n",
        "best_score_RFC = 0\n",
        "best_est_RFC = 0\n",
        "best_depth_RFC = 0\n",
        "for est in range(1,50,10):\n",
        "  for depth in range(1,11):\n",
        "    model_RFC = RandomForestClassifier(random_state=12345, n_estimators=est, max_depth=depth)\n",
        "    model_RFC.fit(features_train, target_train)\n",
        "    score_RFC = model_RFC.score(features_valid, target_valid)\n",
        "    if score_RFC > best_score_RFC:\n",
        "      best_score_RFC = score_RFC\n",
        "      best_est = est\n",
        "      best_depth_RFC = depth\n",
        "\n",
        "print(\"Accuracy of the best model on the validation set:\")\n",
        "print(f\"Accuracy: {best_score_RFC} , n_estimators: {best_est} and depth: {best_depth_RFC}\")"
      ],
      "metadata": {
        "colab": {
          "base_uri": "https://localhost:8080/"
        },
        "id": "88TvRO25oCs-",
        "outputId": "75781eb7-7d96-47c0-d8a1-f33f9a98edf5"
      },
      "execution_count": 11,
      "outputs": [
        {
          "output_type": "stream",
          "name": "stdout",
          "text": [
            "Accuracy of the best model on the validation set:\n",
            "Accuracy: 0.807153965785381 , n_estimators: 41 and depth: 8\n"
          ]
        }
      ]
    },
    {
      "cell_type": "markdown",
      "source": [
        "### My Findings:\n",
        "- After investigating RandomForest and DecisionTree models, I found that RandomForestClassifier achieved higher accuracy (0.8087) compared to the DecisionTree (0.7853). I tested extensive hyperparameter ranges for RandomForestClassifier (n_estimators: 1-100, max_depth: 1-15) and determined that n_estimators = 41 eith max_depth = 8 provided optimal performance (I updated the code with these parameters 1-50 by 10, and depth 1-11 so that it doesn't run for a long time). While both models exceeded the required 0.75 accuracy threshold, RandomForestClassifier's superior performance makes it the better choice for recommending mobile plans to customers."
      ],
      "metadata": {
        "id": "A9ioU-Beo7UE"
      }
    },
    {
      "cell_type": "markdown",
      "source": [
        "### Comparing the validation set to the test set"
      ],
      "metadata": {
        "id": "OtA0kH8Op5T3"
      }
    },
    {
      "cell_type": "code",
      "source": [
        "# Comparing the validation set to the test set\n",
        "# Setting our final model equal to our already RFC\n",
        "final_model = model_RFC\n",
        "\n",
        "# We know the validations accuracy score from the previous cell\n",
        "print(\"Accuracy of the final model on the validation set:\", best_score_RFC)\n",
        "\n",
        "# Test set predictions\n",
        "test_predictions = final_model.predict(features_test)\n",
        "# Checking the accuracy of the model\n",
        "accuracy_test = accuracy_score(target_test, test_predictions)\n",
        "print(\"Accuracy of the final model on the test set:\", accuracy_test)"
      ],
      "metadata": {
        "colab": {
          "base_uri": "https://localhost:8080/"
        },
        "id": "yAHnGg5zotk2",
        "outputId": "a4174c4b-840a-4740-b564-ba0093ea97ff"
      },
      "execution_count": 18,
      "outputs": [
        {
          "output_type": "stream",
          "name": "stdout",
          "text": [
            "Accuracy of the final model on the validation set: 0.807153965785381\n",
            "Accuracy of the final model on the test set: 0.7978227060653188\n"
          ]
        }
      ]
    },
    {
      "cell_type": "markdown",
      "source": [
        "After comparing the two sets, the validation set has a higher accuracy by about 0.01. With this information, we can conclude that the model generalizes well and it's not significantly overfitting to the validation set. This shows that the model is stable and consistent across different subsets of data."
      ],
      "metadata": {
        "id": "dZJkm47KtMkM"
      }
    },
    {
      "cell_type": "code",
      "source": [],
      "metadata": {
        "id": "1yKO2L5xtnxI"
      },
      "execution_count": null,
      "outputs": []
    }
  ]
}